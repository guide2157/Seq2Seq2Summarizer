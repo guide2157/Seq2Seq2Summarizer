{
  "nbformat": 4,
  "nbformat_minor": 0,
  "metadata": {
    "colab": {
      "name": "AmazonReviewSeq2seq.ipynb",
      "provenance": [],
      "authorship_tag": "ABX9TyPLGbbzFonD4lj1HZILN1+q",
      "include_colab_link": true
    },
    "kernelspec": {
      "name": "python3",
      "display_name": "Python 3"
    },
    "accelerator": "GPU",
    "widgets": {
      "application/vnd.jupyter.widget-state+json": {
        "8eeb688cc9d74b63933cbaf1de184294": {
          "model_module": "@jupyter-widgets/controls",
          "model_name": "HBoxModel",
          "state": {
            "_view_name": "HBoxView",
            "_dom_classes": [],
            "_model_name": "HBoxModel",
            "_view_module": "@jupyter-widgets/controls",
            "_model_module_version": "1.5.0",
            "_view_count": null,
            "_view_module_version": "1.5.0",
            "box_style": "",
            "layout": "IPY_MODEL_12909ec271984143804561df874a8336",
            "_model_module": "@jupyter-widgets/controls",
            "children": [
              "IPY_MODEL_556f37b450aa495abcc878346b10fe2f",
              "IPY_MODEL_76216f63761f4529919715d231419150"
            ]
          }
        },
        "12909ec271984143804561df874a8336": {
          "model_module": "@jupyter-widgets/base",
          "model_name": "LayoutModel",
          "state": {
            "_view_name": "LayoutView",
            "grid_template_rows": null,
            "right": null,
            "justify_content": null,
            "_view_module": "@jupyter-widgets/base",
            "overflow": null,
            "_model_module_version": "1.2.0",
            "_view_count": null,
            "flex_flow": null,
            "width": null,
            "min_width": null,
            "border": null,
            "align_items": null,
            "bottom": null,
            "_model_module": "@jupyter-widgets/base",
            "top": null,
            "grid_column": null,
            "overflow_y": null,
            "overflow_x": null,
            "grid_auto_flow": null,
            "grid_area": null,
            "grid_template_columns": null,
            "flex": null,
            "_model_name": "LayoutModel",
            "justify_items": null,
            "grid_row": null,
            "max_height": null,
            "align_content": null,
            "visibility": null,
            "align_self": null,
            "height": null,
            "min_height": null,
            "padding": null,
            "grid_auto_rows": null,
            "grid_gap": null,
            "max_width": null,
            "order": null,
            "_view_module_version": "1.2.0",
            "grid_template_areas": null,
            "object_position": null,
            "object_fit": null,
            "grid_auto_columns": null,
            "margin": null,
            "display": null,
            "left": null
          }
        },
        "556f37b450aa495abcc878346b10fe2f": {
          "model_module": "@jupyter-widgets/controls",
          "model_name": "FloatProgressModel",
          "state": {
            "_view_name": "ProgressView",
            "style": "IPY_MODEL_e21788ba734d419dbc1f88dc5989518d",
            "_dom_classes": [],
            "description": "100%",
            "_model_name": "FloatProgressModel",
            "bar_style": "success",
            "max": 5,
            "_view_module": "@jupyter-widgets/controls",
            "_model_module_version": "1.5.0",
            "value": 5,
            "_view_count": null,
            "_view_module_version": "1.5.0",
            "orientation": "horizontal",
            "min": 0,
            "description_tooltip": null,
            "_model_module": "@jupyter-widgets/controls",
            "layout": "IPY_MODEL_ab0de23d66d948a4bf6e838fddb3b9f3"
          }
        },
        "76216f63761f4529919715d231419150": {
          "model_module": "@jupyter-widgets/controls",
          "model_name": "HTMLModel",
          "state": {
            "_view_name": "HTMLView",
            "style": "IPY_MODEL_ab06947793e0427cbf57072a0ed218b9",
            "_dom_classes": [],
            "description": "",
            "_model_name": "HTMLModel",
            "placeholder": "​",
            "_view_module": "@jupyter-widgets/controls",
            "_model_module_version": "1.5.0",
            "value": " 5/5 [13:19&lt;00:00, 159.91s/it]",
            "_view_count": null,
            "_view_module_version": "1.5.0",
            "description_tooltip": null,
            "_model_module": "@jupyter-widgets/controls",
            "layout": "IPY_MODEL_410924e41f9043608f702352c502743a"
          }
        },
        "e21788ba734d419dbc1f88dc5989518d": {
          "model_module": "@jupyter-widgets/controls",
          "model_name": "ProgressStyleModel",
          "state": {
            "_view_name": "StyleView",
            "_model_name": "ProgressStyleModel",
            "description_width": "initial",
            "_view_module": "@jupyter-widgets/base",
            "_model_module_version": "1.5.0",
            "_view_count": null,
            "_view_module_version": "1.2.0",
            "bar_color": null,
            "_model_module": "@jupyter-widgets/controls"
          }
        },
        "ab0de23d66d948a4bf6e838fddb3b9f3": {
          "model_module": "@jupyter-widgets/base",
          "model_name": "LayoutModel",
          "state": {
            "_view_name": "LayoutView",
            "grid_template_rows": null,
            "right": null,
            "justify_content": null,
            "_view_module": "@jupyter-widgets/base",
            "overflow": null,
            "_model_module_version": "1.2.0",
            "_view_count": null,
            "flex_flow": null,
            "width": null,
            "min_width": null,
            "border": null,
            "align_items": null,
            "bottom": null,
            "_model_module": "@jupyter-widgets/base",
            "top": null,
            "grid_column": null,
            "overflow_y": null,
            "overflow_x": null,
            "grid_auto_flow": null,
            "grid_area": null,
            "grid_template_columns": null,
            "flex": null,
            "_model_name": "LayoutModel",
            "justify_items": null,
            "grid_row": null,
            "max_height": null,
            "align_content": null,
            "visibility": null,
            "align_self": null,
            "height": null,
            "min_height": null,
            "padding": null,
            "grid_auto_rows": null,
            "grid_gap": null,
            "max_width": null,
            "order": null,
            "_view_module_version": "1.2.0",
            "grid_template_areas": null,
            "object_position": null,
            "object_fit": null,
            "grid_auto_columns": null,
            "margin": null,
            "display": null,
            "left": null
          }
        },
        "ab06947793e0427cbf57072a0ed218b9": {
          "model_module": "@jupyter-widgets/controls",
          "model_name": "DescriptionStyleModel",
          "state": {
            "_view_name": "StyleView",
            "_model_name": "DescriptionStyleModel",
            "description_width": "",
            "_view_module": "@jupyter-widgets/base",
            "_model_module_version": "1.5.0",
            "_view_count": null,
            "_view_module_version": "1.2.0",
            "_model_module": "@jupyter-widgets/controls"
          }
        },
        "410924e41f9043608f702352c502743a": {
          "model_module": "@jupyter-widgets/base",
          "model_name": "LayoutModel",
          "state": {
            "_view_name": "LayoutView",
            "grid_template_rows": null,
            "right": null,
            "justify_content": null,
            "_view_module": "@jupyter-widgets/base",
            "overflow": null,
            "_model_module_version": "1.2.0",
            "_view_count": null,
            "flex_flow": null,
            "width": null,
            "min_width": null,
            "border": null,
            "align_items": null,
            "bottom": null,
            "_model_module": "@jupyter-widgets/base",
            "top": null,
            "grid_column": null,
            "overflow_y": null,
            "overflow_x": null,
            "grid_auto_flow": null,
            "grid_area": null,
            "grid_template_columns": null,
            "flex": null,
            "_model_name": "LayoutModel",
            "justify_items": null,
            "grid_row": null,
            "max_height": null,
            "align_content": null,
            "visibility": null,
            "align_self": null,
            "height": null,
            "min_height": null,
            "padding": null,
            "grid_auto_rows": null,
            "grid_gap": null,
            "max_width": null,
            "order": null,
            "_view_module_version": "1.2.0",
            "grid_template_areas": null,
            "object_position": null,
            "object_fit": null,
            "grid_auto_columns": null,
            "margin": null,
            "display": null,
            "left": null
          }
        },
        "0576ec501e774eccbe6df23c2d41dea9": {
          "model_module": "@jupyter-widgets/controls",
          "model_name": "HBoxModel",
          "state": {
            "_view_name": "HBoxView",
            "_dom_classes": [],
            "_model_name": "HBoxModel",
            "_view_module": "@jupyter-widgets/controls",
            "_model_module_version": "1.5.0",
            "_view_count": null,
            "_view_module_version": "1.5.0",
            "box_style": "",
            "layout": "IPY_MODEL_05911a0832e94f0e90eaddd58ec0bd88",
            "_model_module": "@jupyter-widgets/controls",
            "children": [
              "IPY_MODEL_764edde93d5146488b72137fccc7ef77",
              "IPY_MODEL_b160da07f014461ab205b772ee67c49b"
            ]
          }
        },
        "05911a0832e94f0e90eaddd58ec0bd88": {
          "model_module": "@jupyter-widgets/base",
          "model_name": "LayoutModel",
          "state": {
            "_view_name": "LayoutView",
            "grid_template_rows": null,
            "right": null,
            "justify_content": null,
            "_view_module": "@jupyter-widgets/base",
            "overflow": null,
            "_model_module_version": "1.2.0",
            "_view_count": null,
            "flex_flow": null,
            "width": null,
            "min_width": null,
            "border": null,
            "align_items": null,
            "bottom": null,
            "_model_module": "@jupyter-widgets/base",
            "top": null,
            "grid_column": null,
            "overflow_y": null,
            "overflow_x": null,
            "grid_auto_flow": null,
            "grid_area": null,
            "grid_template_columns": null,
            "flex": null,
            "_model_name": "LayoutModel",
            "justify_items": null,
            "grid_row": null,
            "max_height": null,
            "align_content": null,
            "visibility": null,
            "align_self": null,
            "height": null,
            "min_height": null,
            "padding": null,
            "grid_auto_rows": null,
            "grid_gap": null,
            "max_width": null,
            "order": null,
            "_view_module_version": "1.2.0",
            "grid_template_areas": null,
            "object_position": null,
            "object_fit": null,
            "grid_auto_columns": null,
            "margin": null,
            "display": null,
            "left": null
          }
        },
        "764edde93d5146488b72137fccc7ef77": {
          "model_module": "@jupyter-widgets/controls",
          "model_name": "FloatProgressModel",
          "state": {
            "_view_name": "ProgressView",
            "style": "IPY_MODEL_605187ac4145430c9859570d2314ea23",
            "_dom_classes": [],
            "description": "100%",
            "_model_name": "FloatProgressModel",
            "bar_style": "success",
            "max": 401,
            "_view_module": "@jupyter-widgets/controls",
            "_model_module_version": "1.5.0",
            "value": 401,
            "_view_count": null,
            "_view_module_version": "1.5.0",
            "orientation": "horizontal",
            "min": 0,
            "description_tooltip": null,
            "_model_module": "@jupyter-widgets/controls",
            "layout": "IPY_MODEL_675fa6961e80428889c746daae5aa565"
          }
        },
        "b160da07f014461ab205b772ee67c49b": {
          "model_module": "@jupyter-widgets/controls",
          "model_name": "HTMLModel",
          "state": {
            "_view_name": "HTMLView",
            "style": "IPY_MODEL_b89ee6168cb04c97a4cdb7b82bceeab9",
            "_dom_classes": [],
            "description": "",
            "_model_name": "HTMLModel",
            "placeholder": "​",
            "_view_module": "@jupyter-widgets/controls",
            "_model_module_version": "1.5.0",
            "value": " 401/401 [13:16&lt;00:00,  1.99s/it]",
            "_view_count": null,
            "_view_module_version": "1.5.0",
            "description_tooltip": null,
            "_model_module": "@jupyter-widgets/controls",
            "layout": "IPY_MODEL_6c54a8467df342e6aeb882cd60b5a2b4"
          }
        },
        "605187ac4145430c9859570d2314ea23": {
          "model_module": "@jupyter-widgets/controls",
          "model_name": "ProgressStyleModel",
          "state": {
            "_view_name": "StyleView",
            "_model_name": "ProgressStyleModel",
            "description_width": "initial",
            "_view_module": "@jupyter-widgets/base",
            "_model_module_version": "1.5.0",
            "_view_count": null,
            "_view_module_version": "1.2.0",
            "bar_color": null,
            "_model_module": "@jupyter-widgets/controls"
          }
        },
        "675fa6961e80428889c746daae5aa565": {
          "model_module": "@jupyter-widgets/base",
          "model_name": "LayoutModel",
          "state": {
            "_view_name": "LayoutView",
            "grid_template_rows": null,
            "right": null,
            "justify_content": null,
            "_view_module": "@jupyter-widgets/base",
            "overflow": null,
            "_model_module_version": "1.2.0",
            "_view_count": null,
            "flex_flow": null,
            "width": null,
            "min_width": null,
            "border": null,
            "align_items": null,
            "bottom": null,
            "_model_module": "@jupyter-widgets/base",
            "top": null,
            "grid_column": null,
            "overflow_y": null,
            "overflow_x": null,
            "grid_auto_flow": null,
            "grid_area": null,
            "grid_template_columns": null,
            "flex": null,
            "_model_name": "LayoutModel",
            "justify_items": null,
            "grid_row": null,
            "max_height": null,
            "align_content": null,
            "visibility": null,
            "align_self": null,
            "height": null,
            "min_height": null,
            "padding": null,
            "grid_auto_rows": null,
            "grid_gap": null,
            "max_width": null,
            "order": null,
            "_view_module_version": "1.2.0",
            "grid_template_areas": null,
            "object_position": null,
            "object_fit": null,
            "grid_auto_columns": null,
            "margin": null,
            "display": null,
            "left": null
          }
        },
        "b89ee6168cb04c97a4cdb7b82bceeab9": {
          "model_module": "@jupyter-widgets/controls",
          "model_name": "DescriptionStyleModel",
          "state": {
            "_view_name": "StyleView",
            "_model_name": "DescriptionStyleModel",
            "description_width": "",
            "_view_module": "@jupyter-widgets/base",
            "_model_module_version": "1.5.0",
            "_view_count": null,
            "_view_module_version": "1.2.0",
            "_model_module": "@jupyter-widgets/controls"
          }
        },
        "6c54a8467df342e6aeb882cd60b5a2b4": {
          "model_module": "@jupyter-widgets/base",
          "model_name": "LayoutModel",
          "state": {
            "_view_name": "LayoutView",
            "grid_template_rows": null,
            "right": null,
            "justify_content": null,
            "_view_module": "@jupyter-widgets/base",
            "overflow": null,
            "_model_module_version": "1.2.0",
            "_view_count": null,
            "flex_flow": null,
            "width": null,
            "min_width": null,
            "border": null,
            "align_items": null,
            "bottom": null,
            "_model_module": "@jupyter-widgets/base",
            "top": null,
            "grid_column": null,
            "overflow_y": null,
            "overflow_x": null,
            "grid_auto_flow": null,
            "grid_area": null,
            "grid_template_columns": null,
            "flex": null,
            "_model_name": "LayoutModel",
            "justify_items": null,
            "grid_row": null,
            "max_height": null,
            "align_content": null,
            "visibility": null,
            "align_self": null,
            "height": null,
            "min_height": null,
            "padding": null,
            "grid_auto_rows": null,
            "grid_gap": null,
            "max_width": null,
            "order": null,
            "_view_module_version": "1.2.0",
            "grid_template_areas": null,
            "object_position": null,
            "object_fit": null,
            "grid_auto_columns": null,
            "margin": null,
            "display": null,
            "left": null
          }
        },
        "7925ffe0c447403c8c9294f8fab3a2a4": {
          "model_module": "@jupyter-widgets/controls",
          "model_name": "HBoxModel",
          "state": {
            "_view_name": "HBoxView",
            "_dom_classes": [],
            "_model_name": "HBoxModel",
            "_view_module": "@jupyter-widgets/controls",
            "_model_module_version": "1.5.0",
            "_view_count": null,
            "_view_module_version": "1.5.0",
            "box_style": "",
            "layout": "IPY_MODEL_ff7397f67df340ce948dff26e982befb",
            "_model_module": "@jupyter-widgets/controls",
            "children": [
              "IPY_MODEL_86db6bef98c748879c495c60504901b7",
              "IPY_MODEL_ab4bc4e341724ab0b39cbd3d3412ef50"
            ]
          }
        },
        "ff7397f67df340ce948dff26e982befb": {
          "model_module": "@jupyter-widgets/base",
          "model_name": "LayoutModel",
          "state": {
            "_view_name": "LayoutView",
            "grid_template_rows": null,
            "right": null,
            "justify_content": null,
            "_view_module": "@jupyter-widgets/base",
            "overflow": null,
            "_model_module_version": "1.2.0",
            "_view_count": null,
            "flex_flow": null,
            "width": null,
            "min_width": null,
            "border": null,
            "align_items": null,
            "bottom": null,
            "_model_module": "@jupyter-widgets/base",
            "top": null,
            "grid_column": null,
            "overflow_y": null,
            "overflow_x": null,
            "grid_auto_flow": null,
            "grid_area": null,
            "grid_template_columns": null,
            "flex": null,
            "_model_name": "LayoutModel",
            "justify_items": null,
            "grid_row": null,
            "max_height": null,
            "align_content": null,
            "visibility": null,
            "align_self": null,
            "height": null,
            "min_height": null,
            "padding": null,
            "grid_auto_rows": null,
            "grid_gap": null,
            "max_width": null,
            "order": null,
            "_view_module_version": "1.2.0",
            "grid_template_areas": null,
            "object_position": null,
            "object_fit": null,
            "grid_auto_columns": null,
            "margin": null,
            "display": null,
            "left": null
          }
        },
        "86db6bef98c748879c495c60504901b7": {
          "model_module": "@jupyter-widgets/controls",
          "model_name": "FloatProgressModel",
          "state": {
            "_view_name": "ProgressView",
            "style": "IPY_MODEL_f190fe9637ed4a9a84d152181aac1df4",
            "_dom_classes": [],
            "description": "100%",
            "_model_name": "FloatProgressModel",
            "bar_style": "success",
            "max": 386,
            "_view_module": "@jupyter-widgets/controls",
            "_model_module_version": "1.5.0",
            "value": 386,
            "_view_count": null,
            "_view_module_version": "1.5.0",
            "orientation": "horizontal",
            "min": 0,
            "description_tooltip": null,
            "_model_module": "@jupyter-widgets/controls",
            "layout": "IPY_MODEL_cbe1a461643f47c197759cef266e11b5"
          }
        },
        "ab4bc4e341724ab0b39cbd3d3412ef50": {
          "model_module": "@jupyter-widgets/controls",
          "model_name": "HTMLModel",
          "state": {
            "_view_name": "HTMLView",
            "style": "IPY_MODEL_fb23e6cf18cc40e4b8cecb6da34f3673",
            "_dom_classes": [],
            "description": "",
            "_model_name": "HTMLModel",
            "placeholder": "​",
            "_view_module": "@jupyter-widgets/controls",
            "_model_module_version": "1.5.0",
            "value": " 386/386 [10:42&lt;00:00,  1.66s/it]",
            "_view_count": null,
            "_view_module_version": "1.5.0",
            "description_tooltip": null,
            "_model_module": "@jupyter-widgets/controls",
            "layout": "IPY_MODEL_8bbcdceebc4b428a86c30ae327fdf652"
          }
        },
        "f190fe9637ed4a9a84d152181aac1df4": {
          "model_module": "@jupyter-widgets/controls",
          "model_name": "ProgressStyleModel",
          "state": {
            "_view_name": "StyleView",
            "_model_name": "ProgressStyleModel",
            "description_width": "initial",
            "_view_module": "@jupyter-widgets/base",
            "_model_module_version": "1.5.0",
            "_view_count": null,
            "_view_module_version": "1.2.0",
            "bar_color": null,
            "_model_module": "@jupyter-widgets/controls"
          }
        },
        "cbe1a461643f47c197759cef266e11b5": {
          "model_module": "@jupyter-widgets/base",
          "model_name": "LayoutModel",
          "state": {
            "_view_name": "LayoutView",
            "grid_template_rows": null,
            "right": null,
            "justify_content": null,
            "_view_module": "@jupyter-widgets/base",
            "overflow": null,
            "_model_module_version": "1.2.0",
            "_view_count": null,
            "flex_flow": null,
            "width": null,
            "min_width": null,
            "border": null,
            "align_items": null,
            "bottom": null,
            "_model_module": "@jupyter-widgets/base",
            "top": null,
            "grid_column": null,
            "overflow_y": null,
            "overflow_x": null,
            "grid_auto_flow": null,
            "grid_area": null,
            "grid_template_columns": null,
            "flex": null,
            "_model_name": "LayoutModel",
            "justify_items": null,
            "grid_row": null,
            "max_height": null,
            "align_content": null,
            "visibility": null,
            "align_self": null,
            "height": null,
            "min_height": null,
            "padding": null,
            "grid_auto_rows": null,
            "grid_gap": null,
            "max_width": null,
            "order": null,
            "_view_module_version": "1.2.0",
            "grid_template_areas": null,
            "object_position": null,
            "object_fit": null,
            "grid_auto_columns": null,
            "margin": null,
            "display": null,
            "left": null
          }
        },
        "fb23e6cf18cc40e4b8cecb6da34f3673": {
          "model_module": "@jupyter-widgets/controls",
          "model_name": "DescriptionStyleModel",
          "state": {
            "_view_name": "StyleView",
            "_model_name": "DescriptionStyleModel",
            "description_width": "",
            "_view_module": "@jupyter-widgets/base",
            "_model_module_version": "1.5.0",
            "_view_count": null,
            "_view_module_version": "1.2.0",
            "_model_module": "@jupyter-widgets/controls"
          }
        },
        "8bbcdceebc4b428a86c30ae327fdf652": {
          "model_module": "@jupyter-widgets/base",
          "model_name": "LayoutModel",
          "state": {
            "_view_name": "LayoutView",
            "grid_template_rows": null,
            "right": null,
            "justify_content": null,
            "_view_module": "@jupyter-widgets/base",
            "overflow": null,
            "_model_module_version": "1.2.0",
            "_view_count": null,
            "flex_flow": null,
            "width": null,
            "min_width": null,
            "border": null,
            "align_items": null,
            "bottom": null,
            "_model_module": "@jupyter-widgets/base",
            "top": null,
            "grid_column": null,
            "overflow_y": null,
            "overflow_x": null,
            "grid_auto_flow": null,
            "grid_area": null,
            "grid_template_columns": null,
            "flex": null,
            "_model_name": "LayoutModel",
            "justify_items": null,
            "grid_row": null,
            "max_height": null,
            "align_content": null,
            "visibility": null,
            "align_self": null,
            "height": null,
            "min_height": null,
            "padding": null,
            "grid_auto_rows": null,
            "grid_gap": null,
            "max_width": null,
            "order": null,
            "_view_module_version": "1.2.0",
            "grid_template_areas": null,
            "object_position": null,
            "object_fit": null,
            "grid_auto_columns": null,
            "margin": null,
            "display": null,
            "left": null
          }
        },
        "9c595721ed394db0ab5dd1a5f012a6d9": {
          "model_module": "@jupyter-widgets/controls",
          "model_name": "HBoxModel",
          "state": {
            "_view_name": "HBoxView",
            "_dom_classes": [],
            "_model_name": "HBoxModel",
            "_view_module": "@jupyter-widgets/controls",
            "_model_module_version": "1.5.0",
            "_view_count": null,
            "_view_module_version": "1.5.0",
            "box_style": "",
            "layout": "IPY_MODEL_06ec6d28f42b4eb192e57614c3445f7d",
            "_model_module": "@jupyter-widgets/controls",
            "children": [
              "IPY_MODEL_c64961ec469e41069aa1aa16d1c211ad",
              "IPY_MODEL_dfccddac416247b699e055436c920389"
            ]
          }
        },
        "06ec6d28f42b4eb192e57614c3445f7d": {
          "model_module": "@jupyter-widgets/base",
          "model_name": "LayoutModel",
          "state": {
            "_view_name": "LayoutView",
            "grid_template_rows": null,
            "right": null,
            "justify_content": null,
            "_view_module": "@jupyter-widgets/base",
            "overflow": null,
            "_model_module_version": "1.2.0",
            "_view_count": null,
            "flex_flow": null,
            "width": null,
            "min_width": null,
            "border": null,
            "align_items": null,
            "bottom": null,
            "_model_module": "@jupyter-widgets/base",
            "top": null,
            "grid_column": null,
            "overflow_y": null,
            "overflow_x": null,
            "grid_auto_flow": null,
            "grid_area": null,
            "grid_template_columns": null,
            "flex": null,
            "_model_name": "LayoutModel",
            "justify_items": null,
            "grid_row": null,
            "max_height": null,
            "align_content": null,
            "visibility": null,
            "align_self": null,
            "height": null,
            "min_height": null,
            "padding": null,
            "grid_auto_rows": null,
            "grid_gap": null,
            "max_width": null,
            "order": null,
            "_view_module_version": "1.2.0",
            "grid_template_areas": null,
            "object_position": null,
            "object_fit": null,
            "grid_auto_columns": null,
            "margin": null,
            "display": null,
            "left": null
          }
        },
        "c64961ec469e41069aa1aa16d1c211ad": {
          "model_module": "@jupyter-widgets/controls",
          "model_name": "FloatProgressModel",
          "state": {
            "_view_name": "ProgressView",
            "style": "IPY_MODEL_63f5dc3e2eac4f868b9e14bb1ff1178a",
            "_dom_classes": [],
            "description": "100%",
            "_model_name": "FloatProgressModel",
            "bar_style": "success",
            "max": 417,
            "_view_module": "@jupyter-widgets/controls",
            "_model_module_version": "1.5.0",
            "value": 417,
            "_view_count": null,
            "_view_module_version": "1.5.0",
            "orientation": "horizontal",
            "min": 0,
            "description_tooltip": null,
            "_model_module": "@jupyter-widgets/controls",
            "layout": "IPY_MODEL_1f937a9be55a4fb3aa47ec09716b59b5"
          }
        },
        "dfccddac416247b699e055436c920389": {
          "model_module": "@jupyter-widgets/controls",
          "model_name": "HTMLModel",
          "state": {
            "_view_name": "HTMLView",
            "style": "IPY_MODEL_ff0a0d11de95454a9421df308bb9a23c",
            "_dom_classes": [],
            "description": "",
            "_model_name": "HTMLModel",
            "placeholder": "​",
            "_view_module": "@jupyter-widgets/controls",
            "_model_module_version": "1.5.0",
            "value": " 417/417 [08:19&lt;00:00,  1.20s/it]",
            "_view_count": null,
            "_view_module_version": "1.5.0",
            "description_tooltip": null,
            "_model_module": "@jupyter-widgets/controls",
            "layout": "IPY_MODEL_e0eb9a51277048e7807ea21c8860ccd2"
          }
        },
        "63f5dc3e2eac4f868b9e14bb1ff1178a": {
          "model_module": "@jupyter-widgets/controls",
          "model_name": "ProgressStyleModel",
          "state": {
            "_view_name": "StyleView",
            "_model_name": "ProgressStyleModel",
            "description_width": "initial",
            "_view_module": "@jupyter-widgets/base",
            "_model_module_version": "1.5.0",
            "_view_count": null,
            "_view_module_version": "1.2.0",
            "bar_color": null,
            "_model_module": "@jupyter-widgets/controls"
          }
        },
        "1f937a9be55a4fb3aa47ec09716b59b5": {
          "model_module": "@jupyter-widgets/base",
          "model_name": "LayoutModel",
          "state": {
            "_view_name": "LayoutView",
            "grid_template_rows": null,
            "right": null,
            "justify_content": null,
            "_view_module": "@jupyter-widgets/base",
            "overflow": null,
            "_model_module_version": "1.2.0",
            "_view_count": null,
            "flex_flow": null,
            "width": null,
            "min_width": null,
            "border": null,
            "align_items": null,
            "bottom": null,
            "_model_module": "@jupyter-widgets/base",
            "top": null,
            "grid_column": null,
            "overflow_y": null,
            "overflow_x": null,
            "grid_auto_flow": null,
            "grid_area": null,
            "grid_template_columns": null,
            "flex": null,
            "_model_name": "LayoutModel",
            "justify_items": null,
            "grid_row": null,
            "max_height": null,
            "align_content": null,
            "visibility": null,
            "align_self": null,
            "height": null,
            "min_height": null,
            "padding": null,
            "grid_auto_rows": null,
            "grid_gap": null,
            "max_width": null,
            "order": null,
            "_view_module_version": "1.2.0",
            "grid_template_areas": null,
            "object_position": null,
            "object_fit": null,
            "grid_auto_columns": null,
            "margin": null,
            "display": null,
            "left": null
          }
        },
        "ff0a0d11de95454a9421df308bb9a23c": {
          "model_module": "@jupyter-widgets/controls",
          "model_name": "DescriptionStyleModel",
          "state": {
            "_view_name": "StyleView",
            "_model_name": "DescriptionStyleModel",
            "description_width": "",
            "_view_module": "@jupyter-widgets/base",
            "_model_module_version": "1.5.0",
            "_view_count": null,
            "_view_module_version": "1.2.0",
            "_model_module": "@jupyter-widgets/controls"
          }
        },
        "e0eb9a51277048e7807ea21c8860ccd2": {
          "model_module": "@jupyter-widgets/base",
          "model_name": "LayoutModel",
          "state": {
            "_view_name": "LayoutView",
            "grid_template_rows": null,
            "right": null,
            "justify_content": null,
            "_view_module": "@jupyter-widgets/base",
            "overflow": null,
            "_model_module_version": "1.2.0",
            "_view_count": null,
            "flex_flow": null,
            "width": null,
            "min_width": null,
            "border": null,
            "align_items": null,
            "bottom": null,
            "_model_module": "@jupyter-widgets/base",
            "top": null,
            "grid_column": null,
            "overflow_y": null,
            "overflow_x": null,
            "grid_auto_flow": null,
            "grid_area": null,
            "grid_template_columns": null,
            "flex": null,
            "_model_name": "LayoutModel",
            "justify_items": null,
            "grid_row": null,
            "max_height": null,
            "align_content": null,
            "visibility": null,
            "align_self": null,
            "height": null,
            "min_height": null,
            "padding": null,
            "grid_auto_rows": null,
            "grid_gap": null,
            "max_width": null,
            "order": null,
            "_view_module_version": "1.2.0",
            "grid_template_areas": null,
            "object_position": null,
            "object_fit": null,
            "grid_auto_columns": null,
            "margin": null,
            "display": null,
            "left": null
          }
        },
        "726e81dfae214dd8841c86c477537859": {
          "model_module": "@jupyter-widgets/controls",
          "model_name": "HBoxModel",
          "state": {
            "_view_name": "HBoxView",
            "_dom_classes": [],
            "_model_name": "HBoxModel",
            "_view_module": "@jupyter-widgets/controls",
            "_model_module_version": "1.5.0",
            "_view_count": null,
            "_view_module_version": "1.5.0",
            "box_style": "",
            "layout": "IPY_MODEL_e6c8606dbce74f7c8963d29735947c88",
            "_model_module": "@jupyter-widgets/controls",
            "children": [
              "IPY_MODEL_731c51ff3e384916a817b87a71091fe7",
              "IPY_MODEL_2e79ce4a1c344cfa865f0a63dbafc040"
            ]
          }
        },
        "e6c8606dbce74f7c8963d29735947c88": {
          "model_module": "@jupyter-widgets/base",
          "model_name": "LayoutModel",
          "state": {
            "_view_name": "LayoutView",
            "grid_template_rows": null,
            "right": null,
            "justify_content": null,
            "_view_module": "@jupyter-widgets/base",
            "overflow": null,
            "_model_module_version": "1.2.0",
            "_view_count": null,
            "flex_flow": null,
            "width": null,
            "min_width": null,
            "border": null,
            "align_items": null,
            "bottom": null,
            "_model_module": "@jupyter-widgets/base",
            "top": null,
            "grid_column": null,
            "overflow_y": null,
            "overflow_x": null,
            "grid_auto_flow": null,
            "grid_area": null,
            "grid_template_columns": null,
            "flex": null,
            "_model_name": "LayoutModel",
            "justify_items": null,
            "grid_row": null,
            "max_height": null,
            "align_content": null,
            "visibility": null,
            "align_self": null,
            "height": null,
            "min_height": null,
            "padding": null,
            "grid_auto_rows": null,
            "grid_gap": null,
            "max_width": null,
            "order": null,
            "_view_module_version": "1.2.0",
            "grid_template_areas": null,
            "object_position": null,
            "object_fit": null,
            "grid_auto_columns": null,
            "margin": null,
            "display": null,
            "left": null
          }
        },
        "731c51ff3e384916a817b87a71091fe7": {
          "model_module": "@jupyter-widgets/controls",
          "model_name": "FloatProgressModel",
          "state": {
            "_view_name": "ProgressView",
            "style": "IPY_MODEL_fcd48f859e01421c912c79c0938c25c8",
            "_dom_classes": [],
            "description": "100%",
            "_model_name": "FloatProgressModel",
            "bar_style": "success",
            "max": 511,
            "_view_module": "@jupyter-widgets/controls",
            "_model_module_version": "1.5.0",
            "value": 511,
            "_view_count": null,
            "_view_module_version": "1.5.0",
            "orientation": "horizontal",
            "min": 0,
            "description_tooltip": null,
            "_model_module": "@jupyter-widgets/controls",
            "layout": "IPY_MODEL_f86c5c35d4bc4e4ebe9ab1961b1bd841"
          }
        },
        "2e79ce4a1c344cfa865f0a63dbafc040": {
          "model_module": "@jupyter-widgets/controls",
          "model_name": "HTMLModel",
          "state": {
            "_view_name": "HTMLView",
            "style": "IPY_MODEL_61ed6e98bee4453bb49ed11c98d05054",
            "_dom_classes": [],
            "description": "",
            "_model_name": "HTMLModel",
            "placeholder": "​",
            "_view_module": "@jupyter-widgets/controls",
            "_model_module_version": "1.5.0",
            "value": " 511/511 [05:59&lt;00:00,  1.42it/s]",
            "_view_count": null,
            "_view_module_version": "1.5.0",
            "description_tooltip": null,
            "_model_module": "@jupyter-widgets/controls",
            "layout": "IPY_MODEL_cc5393d99412495a9e25a6ea3b9c8b90"
          }
        },
        "fcd48f859e01421c912c79c0938c25c8": {
          "model_module": "@jupyter-widgets/controls",
          "model_name": "ProgressStyleModel",
          "state": {
            "_view_name": "StyleView",
            "_model_name": "ProgressStyleModel",
            "description_width": "initial",
            "_view_module": "@jupyter-widgets/base",
            "_model_module_version": "1.5.0",
            "_view_count": null,
            "_view_module_version": "1.2.0",
            "bar_color": null,
            "_model_module": "@jupyter-widgets/controls"
          }
        },
        "f86c5c35d4bc4e4ebe9ab1961b1bd841": {
          "model_module": "@jupyter-widgets/base",
          "model_name": "LayoutModel",
          "state": {
            "_view_name": "LayoutView",
            "grid_template_rows": null,
            "right": null,
            "justify_content": null,
            "_view_module": "@jupyter-widgets/base",
            "overflow": null,
            "_model_module_version": "1.2.0",
            "_view_count": null,
            "flex_flow": null,
            "width": null,
            "min_width": null,
            "border": null,
            "align_items": null,
            "bottom": null,
            "_model_module": "@jupyter-widgets/base",
            "top": null,
            "grid_column": null,
            "overflow_y": null,
            "overflow_x": null,
            "grid_auto_flow": null,
            "grid_area": null,
            "grid_template_columns": null,
            "flex": null,
            "_model_name": "LayoutModel",
            "justify_items": null,
            "grid_row": null,
            "max_height": null,
            "align_content": null,
            "visibility": null,
            "align_self": null,
            "height": null,
            "min_height": null,
            "padding": null,
            "grid_auto_rows": null,
            "grid_gap": null,
            "max_width": null,
            "order": null,
            "_view_module_version": "1.2.0",
            "grid_template_areas": null,
            "object_position": null,
            "object_fit": null,
            "grid_auto_columns": null,
            "margin": null,
            "display": null,
            "left": null
          }
        },
        "61ed6e98bee4453bb49ed11c98d05054": {
          "model_module": "@jupyter-widgets/controls",
          "model_name": "DescriptionStyleModel",
          "state": {
            "_view_name": "StyleView",
            "_model_name": "DescriptionStyleModel",
            "description_width": "",
            "_view_module": "@jupyter-widgets/base",
            "_model_module_version": "1.5.0",
            "_view_count": null,
            "_view_module_version": "1.2.0",
            "_model_module": "@jupyter-widgets/controls"
          }
        },
        "cc5393d99412495a9e25a6ea3b9c8b90": {
          "model_module": "@jupyter-widgets/base",
          "model_name": "LayoutModel",
          "state": {
            "_view_name": "LayoutView",
            "grid_template_rows": null,
            "right": null,
            "justify_content": null,
            "_view_module": "@jupyter-widgets/base",
            "overflow": null,
            "_model_module_version": "1.2.0",
            "_view_count": null,
            "flex_flow": null,
            "width": null,
            "min_width": null,
            "border": null,
            "align_items": null,
            "bottom": null,
            "_model_module": "@jupyter-widgets/base",
            "top": null,
            "grid_column": null,
            "overflow_y": null,
            "overflow_x": null,
            "grid_auto_flow": null,
            "grid_area": null,
            "grid_template_columns": null,
            "flex": null,
            "_model_name": "LayoutModel",
            "justify_items": null,
            "grid_row": null,
            "max_height": null,
            "align_content": null,
            "visibility": null,
            "align_self": null,
            "height": null,
            "min_height": null,
            "padding": null,
            "grid_auto_rows": null,
            "grid_gap": null,
            "max_width": null,
            "order": null,
            "_view_module_version": "1.2.0",
            "grid_template_areas": null,
            "object_position": null,
            "object_fit": null,
            "grid_auto_columns": null,
            "margin": null,
            "display": null,
            "left": null
          }
        },
        "bd4da2f449fb4d26ad738735aab46235": {
          "model_module": "@jupyter-widgets/controls",
          "model_name": "HBoxModel",
          "state": {
            "_view_name": "HBoxView",
            "_dom_classes": [],
            "_model_name": "HBoxModel",
            "_view_module": "@jupyter-widgets/controls",
            "_model_module_version": "1.5.0",
            "_view_count": null,
            "_view_module_version": "1.5.0",
            "box_style": "",
            "layout": "IPY_MODEL_4e699fee77ca427d894e3d7fb1afa997",
            "_model_module": "@jupyter-widgets/controls",
            "children": [
              "IPY_MODEL_d396f004ee1f47238f35e0583d57ac60",
              "IPY_MODEL_3036831fc58f4d51ba7e999bfd05646e"
            ]
          }
        },
        "4e699fee77ca427d894e3d7fb1afa997": {
          "model_module": "@jupyter-widgets/base",
          "model_name": "LayoutModel",
          "state": {
            "_view_name": "LayoutView",
            "grid_template_rows": null,
            "right": null,
            "justify_content": null,
            "_view_module": "@jupyter-widgets/base",
            "overflow": null,
            "_model_module_version": "1.2.0",
            "_view_count": null,
            "flex_flow": null,
            "width": null,
            "min_width": null,
            "border": null,
            "align_items": null,
            "bottom": null,
            "_model_module": "@jupyter-widgets/base",
            "top": null,
            "grid_column": null,
            "overflow_y": null,
            "overflow_x": null,
            "grid_auto_flow": null,
            "grid_area": null,
            "grid_template_columns": null,
            "flex": null,
            "_model_name": "LayoutModel",
            "justify_items": null,
            "grid_row": null,
            "max_height": null,
            "align_content": null,
            "visibility": null,
            "align_self": null,
            "height": null,
            "min_height": null,
            "padding": null,
            "grid_auto_rows": null,
            "grid_gap": null,
            "max_width": null,
            "order": null,
            "_view_module_version": "1.2.0",
            "grid_template_areas": null,
            "object_position": null,
            "object_fit": null,
            "grid_auto_columns": null,
            "margin": null,
            "display": null,
            "left": null
          }
        },
        "d396f004ee1f47238f35e0583d57ac60": {
          "model_module": "@jupyter-widgets/controls",
          "model_name": "FloatProgressModel",
          "state": {
            "_view_name": "ProgressView",
            "style": "IPY_MODEL_1a172936f25b4c35813fcb540d81bd91",
            "_dom_classes": [],
            "description": "100%",
            "_model_name": "FloatProgressModel",
            "bar_style": "success",
            "max": 510,
            "_view_module": "@jupyter-widgets/controls",
            "_model_module_version": "1.5.0",
            "value": 510,
            "_view_count": null,
            "_view_module_version": "1.5.0",
            "orientation": "horizontal",
            "min": 0,
            "description_tooltip": null,
            "_model_module": "@jupyter-widgets/controls",
            "layout": "IPY_MODEL_de52eb925f114b4d97445714e3f945d4"
          }
        },
        "3036831fc58f4d51ba7e999bfd05646e": {
          "model_module": "@jupyter-widgets/controls",
          "model_name": "HTMLModel",
          "state": {
            "_view_name": "HTMLView",
            "style": "IPY_MODEL_be025b70628e4433bfd03a5c8d90ef27",
            "_dom_classes": [],
            "description": "",
            "_model_name": "HTMLModel",
            "placeholder": "​",
            "_view_module": "@jupyter-widgets/controls",
            "_model_module_version": "1.5.0",
            "value": " 510/510 [03:06&lt;00:00,  2.73it/s]",
            "_view_count": null,
            "_view_module_version": "1.5.0",
            "description_tooltip": null,
            "_model_module": "@jupyter-widgets/controls",
            "layout": "IPY_MODEL_92b6496638af40768407018ffdda0d1d"
          }
        },
        "1a172936f25b4c35813fcb540d81bd91": {
          "model_module": "@jupyter-widgets/controls",
          "model_name": "ProgressStyleModel",
          "state": {
            "_view_name": "StyleView",
            "_model_name": "ProgressStyleModel",
            "description_width": "initial",
            "_view_module": "@jupyter-widgets/base",
            "_model_module_version": "1.5.0",
            "_view_count": null,
            "_view_module_version": "1.2.0",
            "bar_color": null,
            "_model_module": "@jupyter-widgets/controls"
          }
        },
        "de52eb925f114b4d97445714e3f945d4": {
          "model_module": "@jupyter-widgets/base",
          "model_name": "LayoutModel",
          "state": {
            "_view_name": "LayoutView",
            "grid_template_rows": null,
            "right": null,
            "justify_content": null,
            "_view_module": "@jupyter-widgets/base",
            "overflow": null,
            "_model_module_version": "1.2.0",
            "_view_count": null,
            "flex_flow": null,
            "width": null,
            "min_width": null,
            "border": null,
            "align_items": null,
            "bottom": null,
            "_model_module": "@jupyter-widgets/base",
            "top": null,
            "grid_column": null,
            "overflow_y": null,
            "overflow_x": null,
            "grid_auto_flow": null,
            "grid_area": null,
            "grid_template_columns": null,
            "flex": null,
            "_model_name": "LayoutModel",
            "justify_items": null,
            "grid_row": null,
            "max_height": null,
            "align_content": null,
            "visibility": null,
            "align_self": null,
            "height": null,
            "min_height": null,
            "padding": null,
            "grid_auto_rows": null,
            "grid_gap": null,
            "max_width": null,
            "order": null,
            "_view_module_version": "1.2.0",
            "grid_template_areas": null,
            "object_position": null,
            "object_fit": null,
            "grid_auto_columns": null,
            "margin": null,
            "display": null,
            "left": null
          }
        },
        "be025b70628e4433bfd03a5c8d90ef27": {
          "model_module": "@jupyter-widgets/controls",
          "model_name": "DescriptionStyleModel",
          "state": {
            "_view_name": "StyleView",
            "_model_name": "DescriptionStyleModel",
            "description_width": "",
            "_view_module": "@jupyter-widgets/base",
            "_model_module_version": "1.5.0",
            "_view_count": null,
            "_view_module_version": "1.2.0",
            "_model_module": "@jupyter-widgets/controls"
          }
        },
        "92b6496638af40768407018ffdda0d1d": {
          "model_module": "@jupyter-widgets/base",
          "model_name": "LayoutModel",
          "state": {
            "_view_name": "LayoutView",
            "grid_template_rows": null,
            "right": null,
            "justify_content": null,
            "_view_module": "@jupyter-widgets/base",
            "overflow": null,
            "_model_module_version": "1.2.0",
            "_view_count": null,
            "flex_flow": null,
            "width": null,
            "min_width": null,
            "border": null,
            "align_items": null,
            "bottom": null,
            "_model_module": "@jupyter-widgets/base",
            "top": null,
            "grid_column": null,
            "overflow_y": null,
            "overflow_x": null,
            "grid_auto_flow": null,
            "grid_area": null,
            "grid_template_columns": null,
            "flex": null,
            "_model_name": "LayoutModel",
            "justify_items": null,
            "grid_row": null,
            "max_height": null,
            "align_content": null,
            "visibility": null,
            "align_self": null,
            "height": null,
            "min_height": null,
            "padding": null,
            "grid_auto_rows": null,
            "grid_gap": null,
            "max_width": null,
            "order": null,
            "_view_module_version": "1.2.0",
            "grid_template_areas": null,
            "object_position": null,
            "object_fit": null,
            "grid_auto_columns": null,
            "margin": null,
            "display": null,
            "left": null
          }
        },
        "602771bf183d4c2295012bcf7aae0d35": {
          "model_module": "@jupyter-widgets/controls",
          "model_name": "HBoxModel",
          "state": {
            "_view_name": "HBoxView",
            "_dom_classes": [],
            "_model_name": "HBoxModel",
            "_view_module": "@jupyter-widgets/controls",
            "_model_module_version": "1.5.0",
            "_view_count": null,
            "_view_module_version": "1.5.0",
            "box_style": "",
            "layout": "IPY_MODEL_a38dd1f907f64e8ca99b78a74fb6bdad",
            "_model_module": "@jupyter-widgets/controls",
            "children": [
              "IPY_MODEL_c33162242e704710a88d737e04f60a9a",
              "IPY_MODEL_4ce0e42449db4ab7b51c7129060d1fe6"
            ]
          }
        },
        "a38dd1f907f64e8ca99b78a74fb6bdad": {
          "model_module": "@jupyter-widgets/base",
          "model_name": "LayoutModel",
          "state": {
            "_view_name": "LayoutView",
            "grid_template_rows": null,
            "right": null,
            "justify_content": null,
            "_view_module": "@jupyter-widgets/base",
            "overflow": null,
            "_model_module_version": "1.2.0",
            "_view_count": null,
            "flex_flow": null,
            "width": null,
            "min_width": null,
            "border": null,
            "align_items": null,
            "bottom": null,
            "_model_module": "@jupyter-widgets/base",
            "top": null,
            "grid_column": null,
            "overflow_y": null,
            "overflow_x": null,
            "grid_auto_flow": null,
            "grid_area": null,
            "grid_template_columns": null,
            "flex": null,
            "_model_name": "LayoutModel",
            "justify_items": null,
            "grid_row": null,
            "max_height": null,
            "align_content": null,
            "visibility": null,
            "align_self": null,
            "height": null,
            "min_height": null,
            "padding": null,
            "grid_auto_rows": null,
            "grid_gap": null,
            "max_width": null,
            "order": null,
            "_view_module_version": "1.2.0",
            "grid_template_areas": null,
            "object_position": null,
            "object_fit": null,
            "grid_auto_columns": null,
            "margin": null,
            "display": null,
            "left": null
          }
        },
        "c33162242e704710a88d737e04f60a9a": {
          "model_module": "@jupyter-widgets/controls",
          "model_name": "FloatProgressModel",
          "state": {
            "_view_name": "ProgressView",
            "style": "IPY_MODEL_038bb33dc3434142b8edd35a4fbdc048",
            "_dom_classes": [],
            "description": "100%",
            "_model_name": "FloatProgressModel",
            "bar_style": "success",
            "max": 2224,
            "_view_module": "@jupyter-widgets/controls",
            "_model_module_version": "1.5.0",
            "value": 2224,
            "_view_count": null,
            "_view_module_version": "1.5.0",
            "orientation": "horizontal",
            "min": 0,
            "description_tooltip": null,
            "_model_module": "@jupyter-widgets/controls",
            "layout": "IPY_MODEL_b36c2585742b45c5a04d66fe21d96ee8"
          }
        },
        "4ce0e42449db4ab7b51c7129060d1fe6": {
          "model_module": "@jupyter-widgets/controls",
          "model_name": "HTMLModel",
          "state": {
            "_view_name": "HTMLView",
            "style": "IPY_MODEL_0fa0c08b04474c7d9c70f15cac04d7fa",
            "_dom_classes": [],
            "description": "",
            "_model_name": "HTMLModel",
            "placeholder": "​",
            "_view_module": "@jupyter-widgets/controls",
            "_model_module_version": "1.5.0",
            "value": " 2224/2224 [00:09&lt;00:00, 235.28it/s]",
            "_view_count": null,
            "_view_module_version": "1.5.0",
            "description_tooltip": null,
            "_model_module": "@jupyter-widgets/controls",
            "layout": "IPY_MODEL_df84c7624bd34f8298d729de7d0f7686"
          }
        },
        "038bb33dc3434142b8edd35a4fbdc048": {
          "model_module": "@jupyter-widgets/controls",
          "model_name": "ProgressStyleModel",
          "state": {
            "_view_name": "StyleView",
            "_model_name": "ProgressStyleModel",
            "description_width": "initial",
            "_view_module": "@jupyter-widgets/base",
            "_model_module_version": "1.5.0",
            "_view_count": null,
            "_view_module_version": "1.2.0",
            "bar_color": null,
            "_model_module": "@jupyter-widgets/controls"
          }
        },
        "b36c2585742b45c5a04d66fe21d96ee8": {
          "model_module": "@jupyter-widgets/base",
          "model_name": "LayoutModel",
          "state": {
            "_view_name": "LayoutView",
            "grid_template_rows": null,
            "right": null,
            "justify_content": null,
            "_view_module": "@jupyter-widgets/base",
            "overflow": null,
            "_model_module_version": "1.2.0",
            "_view_count": null,
            "flex_flow": null,
            "width": null,
            "min_width": null,
            "border": null,
            "align_items": null,
            "bottom": null,
            "_model_module": "@jupyter-widgets/base",
            "top": null,
            "grid_column": null,
            "overflow_y": null,
            "overflow_x": null,
            "grid_auto_flow": null,
            "grid_area": null,
            "grid_template_columns": null,
            "flex": null,
            "_model_name": "LayoutModel",
            "justify_items": null,
            "grid_row": null,
            "max_height": null,
            "align_content": null,
            "visibility": null,
            "align_self": null,
            "height": null,
            "min_height": null,
            "padding": null,
            "grid_auto_rows": null,
            "grid_gap": null,
            "max_width": null,
            "order": null,
            "_view_module_version": "1.2.0",
            "grid_template_areas": null,
            "object_position": null,
            "object_fit": null,
            "grid_auto_columns": null,
            "margin": null,
            "display": null,
            "left": null
          }
        },
        "0fa0c08b04474c7d9c70f15cac04d7fa": {
          "model_module": "@jupyter-widgets/controls",
          "model_name": "DescriptionStyleModel",
          "state": {
            "_view_name": "StyleView",
            "_model_name": "DescriptionStyleModel",
            "description_width": "",
            "_view_module": "@jupyter-widgets/base",
            "_model_module_version": "1.5.0",
            "_view_count": null,
            "_view_module_version": "1.2.0",
            "_model_module": "@jupyter-widgets/controls"
          }
        },
        "df84c7624bd34f8298d729de7d0f7686": {
          "model_module": "@jupyter-widgets/base",
          "model_name": "LayoutModel",
          "state": {
            "_view_name": "LayoutView",
            "grid_template_rows": null,
            "right": null,
            "justify_content": null,
            "_view_module": "@jupyter-widgets/base",
            "overflow": null,
            "_model_module_version": "1.2.0",
            "_view_count": null,
            "flex_flow": null,
            "width": null,
            "min_width": null,
            "border": null,
            "align_items": null,
            "bottom": null,
            "_model_module": "@jupyter-widgets/base",
            "top": null,
            "grid_column": null,
            "overflow_y": null,
            "overflow_x": null,
            "grid_auto_flow": null,
            "grid_area": null,
            "grid_template_columns": null,
            "flex": null,
            "_model_name": "LayoutModel",
            "justify_items": null,
            "grid_row": null,
            "max_height": null,
            "align_content": null,
            "visibility": null,
            "align_self": null,
            "height": null,
            "min_height": null,
            "padding": null,
            "grid_auto_rows": null,
            "grid_gap": null,
            "max_width": null,
            "order": null,
            "_view_module_version": "1.2.0",
            "grid_template_areas": null,
            "object_position": null,
            "object_fit": null,
            "grid_auto_columns": null,
            "margin": null,
            "display": null,
            "left": null
          }
        },
        "2ac2ec6174fd46a79dfe2e25c3247b6a": {
          "model_module": "@jupyter-widgets/controls",
          "model_name": "HBoxModel",
          "state": {
            "_view_name": "HBoxView",
            "_dom_classes": [],
            "_model_name": "HBoxModel",
            "_view_module": "@jupyter-widgets/controls",
            "_model_module_version": "1.5.0",
            "_view_count": null,
            "_view_module_version": "1.5.0",
            "box_style": "",
            "layout": "IPY_MODEL_6aa9a246ee944b01b9547e7857e7ba85",
            "_model_module": "@jupyter-widgets/controls",
            "children": [
              "IPY_MODEL_54765de9f2024cd6924130bcbcc03b36",
              "IPY_MODEL_1b2a4735c82848568339331147f2eec1"
            ]
          }
        },
        "6aa9a246ee944b01b9547e7857e7ba85": {
          "model_module": "@jupyter-widgets/base",
          "model_name": "LayoutModel",
          "state": {
            "_view_name": "LayoutView",
            "grid_template_rows": null,
            "right": null,
            "justify_content": null,
            "_view_module": "@jupyter-widgets/base",
            "overflow": null,
            "_model_module_version": "1.2.0",
            "_view_count": null,
            "flex_flow": null,
            "width": null,
            "min_width": null,
            "border": null,
            "align_items": null,
            "bottom": null,
            "_model_module": "@jupyter-widgets/base",
            "top": null,
            "grid_column": null,
            "overflow_y": null,
            "overflow_x": null,
            "grid_auto_flow": null,
            "grid_area": null,
            "grid_template_columns": null,
            "flex": null,
            "_model_name": "LayoutModel",
            "justify_items": null,
            "grid_row": null,
            "max_height": null,
            "align_content": null,
            "visibility": null,
            "align_self": null,
            "height": null,
            "min_height": null,
            "padding": null,
            "grid_auto_rows": null,
            "grid_gap": null,
            "max_width": null,
            "order": null,
            "_view_module_version": "1.2.0",
            "grid_template_areas": null,
            "object_position": null,
            "object_fit": null,
            "grid_auto_columns": null,
            "margin": null,
            "display": null,
            "left": null
          }
        },
        "54765de9f2024cd6924130bcbcc03b36": {
          "model_module": "@jupyter-widgets/controls",
          "model_name": "FloatProgressModel",
          "state": {
            "_view_name": "ProgressView",
            "style": "IPY_MODEL_e06f182900c6487da3eaa5c3d3746250",
            "_dom_classes": [],
            "description": "100%",
            "_model_name": "FloatProgressModel",
            "bar_style": "success",
            "max": 2224,
            "_view_module": "@jupyter-widgets/controls",
            "_model_module_version": "1.5.0",
            "value": 2224,
            "_view_count": null,
            "_view_module_version": "1.5.0",
            "orientation": "horizontal",
            "min": 0,
            "description_tooltip": null,
            "_model_module": "@jupyter-widgets/controls",
            "layout": "IPY_MODEL_0b8124375d7f4e85bd1491cea43d39e4"
          }
        },
        "1b2a4735c82848568339331147f2eec1": {
          "model_module": "@jupyter-widgets/controls",
          "model_name": "HTMLModel",
          "state": {
            "_view_name": "HTMLView",
            "style": "IPY_MODEL_3e19926e79774c4a98d1cce7a709c981",
            "_dom_classes": [],
            "description": "",
            "_model_name": "HTMLModel",
            "placeholder": "​",
            "_view_module": "@jupyter-widgets/controls",
            "_model_module_version": "1.5.0",
            "value": " 2224/2224 [00:06&lt;00:00, 339.44it/s]",
            "_view_count": null,
            "_view_module_version": "1.5.0",
            "description_tooltip": null,
            "_model_module": "@jupyter-widgets/controls",
            "layout": "IPY_MODEL_a26ae7f8350a4fe8a9188da77039240d"
          }
        },
        "e06f182900c6487da3eaa5c3d3746250": {
          "model_module": "@jupyter-widgets/controls",
          "model_name": "ProgressStyleModel",
          "state": {
            "_view_name": "StyleView",
            "_model_name": "ProgressStyleModel",
            "description_width": "initial",
            "_view_module": "@jupyter-widgets/base",
            "_model_module_version": "1.5.0",
            "_view_count": null,
            "_view_module_version": "1.2.0",
            "bar_color": null,
            "_model_module": "@jupyter-widgets/controls"
          }
        },
        "0b8124375d7f4e85bd1491cea43d39e4": {
          "model_module": "@jupyter-widgets/base",
          "model_name": "LayoutModel",
          "state": {
            "_view_name": "LayoutView",
            "grid_template_rows": null,
            "right": null,
            "justify_content": null,
            "_view_module": "@jupyter-widgets/base",
            "overflow": null,
            "_model_module_version": "1.2.0",
            "_view_count": null,
            "flex_flow": null,
            "width": null,
            "min_width": null,
            "border": null,
            "align_items": null,
            "bottom": null,
            "_model_module": "@jupyter-widgets/base",
            "top": null,
            "grid_column": null,
            "overflow_y": null,
            "overflow_x": null,
            "grid_auto_flow": null,
            "grid_area": null,
            "grid_template_columns": null,
            "flex": null,
            "_model_name": "LayoutModel",
            "justify_items": null,
            "grid_row": null,
            "max_height": null,
            "align_content": null,
            "visibility": null,
            "align_self": null,
            "height": null,
            "min_height": null,
            "padding": null,
            "grid_auto_rows": null,
            "grid_gap": null,
            "max_width": null,
            "order": null,
            "_view_module_version": "1.2.0",
            "grid_template_areas": null,
            "object_position": null,
            "object_fit": null,
            "grid_auto_columns": null,
            "margin": null,
            "display": null,
            "left": null
          }
        },
        "3e19926e79774c4a98d1cce7a709c981": {
          "model_module": "@jupyter-widgets/controls",
          "model_name": "DescriptionStyleModel",
          "state": {
            "_view_name": "StyleView",
            "_model_name": "DescriptionStyleModel",
            "description_width": "",
            "_view_module": "@jupyter-widgets/base",
            "_model_module_version": "1.5.0",
            "_view_count": null,
            "_view_module_version": "1.2.0",
            "_model_module": "@jupyter-widgets/controls"
          }
        },
        "a26ae7f8350a4fe8a9188da77039240d": {
          "model_module": "@jupyter-widgets/base",
          "model_name": "LayoutModel",
          "state": {
            "_view_name": "LayoutView",
            "grid_template_rows": null,
            "right": null,
            "justify_content": null,
            "_view_module": "@jupyter-widgets/base",
            "overflow": null,
            "_model_module_version": "1.2.0",
            "_view_count": null,
            "flex_flow": null,
            "width": null,
            "min_width": null,
            "border": null,
            "align_items": null,
            "bottom": null,
            "_model_module": "@jupyter-widgets/base",
            "top": null,
            "grid_column": null,
            "overflow_y": null,
            "overflow_x": null,
            "grid_auto_flow": null,
            "grid_area": null,
            "grid_template_columns": null,
            "flex": null,
            "_model_name": "LayoutModel",
            "justify_items": null,
            "grid_row": null,
            "max_height": null,
            "align_content": null,
            "visibility": null,
            "align_self": null,
            "height": null,
            "min_height": null,
            "padding": null,
            "grid_auto_rows": null,
            "grid_gap": null,
            "max_width": null,
            "order": null,
            "_view_module_version": "1.2.0",
            "grid_template_areas": null,
            "object_position": null,
            "object_fit": null,
            "grid_auto_columns": null,
            "margin": null,
            "display": null,
            "left": null
          }
        },
        "f0958db33a3245f682ed56220df7ad87": {
          "model_module": "@jupyter-widgets/controls",
          "model_name": "HBoxModel",
          "state": {
            "_view_name": "HBoxView",
            "_dom_classes": [],
            "_model_name": "HBoxModel",
            "_view_module": "@jupyter-widgets/controls",
            "_model_module_version": "1.5.0",
            "_view_count": null,
            "_view_module_version": "1.5.0",
            "box_style": "",
            "layout": "IPY_MODEL_99ac093735a24c759b4ea30c3955211a",
            "_model_module": "@jupyter-widgets/controls",
            "children": [
              "IPY_MODEL_40def898fb3e44faa1b9e8e215db1a30",
              "IPY_MODEL_5f3859f2a02b4e46af5df08d531c2c6e"
            ]
          }
        },
        "99ac093735a24c759b4ea30c3955211a": {
          "model_module": "@jupyter-widgets/base",
          "model_name": "LayoutModel",
          "state": {
            "_view_name": "LayoutView",
            "grid_template_rows": null,
            "right": null,
            "justify_content": null,
            "_view_module": "@jupyter-widgets/base",
            "overflow": null,
            "_model_module_version": "1.2.0",
            "_view_count": null,
            "flex_flow": null,
            "width": null,
            "min_width": null,
            "border": null,
            "align_items": null,
            "bottom": null,
            "_model_module": "@jupyter-widgets/base",
            "top": null,
            "grid_column": null,
            "overflow_y": null,
            "overflow_x": null,
            "grid_auto_flow": null,
            "grid_area": null,
            "grid_template_columns": null,
            "flex": null,
            "_model_name": "LayoutModel",
            "justify_items": null,
            "grid_row": null,
            "max_height": null,
            "align_content": null,
            "visibility": null,
            "align_self": null,
            "height": null,
            "min_height": null,
            "padding": null,
            "grid_auto_rows": null,
            "grid_gap": null,
            "max_width": null,
            "order": null,
            "_view_module_version": "1.2.0",
            "grid_template_areas": null,
            "object_position": null,
            "object_fit": null,
            "grid_auto_columns": null,
            "margin": null,
            "display": null,
            "left": null
          }
        },
        "40def898fb3e44faa1b9e8e215db1a30": {
          "model_module": "@jupyter-widgets/controls",
          "model_name": "FloatProgressModel",
          "state": {
            "_view_name": "ProgressView",
            "style": "IPY_MODEL_da39a794bc074f1f83fb07a9fc6ac249",
            "_dom_classes": [],
            "description": "100%",
            "_model_name": "FloatProgressModel",
            "bar_style": "success",
            "max": 568411,
            "_view_module": "@jupyter-widgets/controls",
            "_model_module_version": "1.5.0",
            "value": 568411,
            "_view_count": null,
            "_view_module_version": "1.5.0",
            "orientation": "horizontal",
            "min": 0,
            "description_tooltip": null,
            "_model_module": "@jupyter-widgets/controls",
            "layout": "IPY_MODEL_646f28e855404142b07e9b8e5d541968"
          }
        },
        "5f3859f2a02b4e46af5df08d531c2c6e": {
          "model_module": "@jupyter-widgets/controls",
          "model_name": "HTMLModel",
          "state": {
            "_view_name": "HTMLView",
            "style": "IPY_MODEL_f171c3f9cd454d748397569208051d3b",
            "_dom_classes": [],
            "description": "",
            "_model_name": "HTMLModel",
            "placeholder": "​",
            "_view_module": "@jupyter-widgets/controls",
            "_model_module_version": "1.5.0",
            "value": " 568411/568411 [01:10&lt;00:00, 8066.41it/s]",
            "_view_count": null,
            "_view_module_version": "1.5.0",
            "description_tooltip": null,
            "_model_module": "@jupyter-widgets/controls",
            "layout": "IPY_MODEL_73c20fbb06de446883a5ed3f85520bfe"
          }
        },
        "da39a794bc074f1f83fb07a9fc6ac249": {
          "model_module": "@jupyter-widgets/controls",
          "model_name": "ProgressStyleModel",
          "state": {
            "_view_name": "StyleView",
            "_model_name": "ProgressStyleModel",
            "description_width": "initial",
            "_view_module": "@jupyter-widgets/base",
            "_model_module_version": "1.5.0",
            "_view_count": null,
            "_view_module_version": "1.2.0",
            "bar_color": null,
            "_model_module": "@jupyter-widgets/controls"
          }
        },
        "646f28e855404142b07e9b8e5d541968": {
          "model_module": "@jupyter-widgets/base",
          "model_name": "LayoutModel",
          "state": {
            "_view_name": "LayoutView",
            "grid_template_rows": null,
            "right": null,
            "justify_content": null,
            "_view_module": "@jupyter-widgets/base",
            "overflow": null,
            "_model_module_version": "1.2.0",
            "_view_count": null,
            "flex_flow": null,
            "width": null,
            "min_width": null,
            "border": null,
            "align_items": null,
            "bottom": null,
            "_model_module": "@jupyter-widgets/base",
            "top": null,
            "grid_column": null,
            "overflow_y": null,
            "overflow_x": null,
            "grid_auto_flow": null,
            "grid_area": null,
            "grid_template_columns": null,
            "flex": null,
            "_model_name": "LayoutModel",
            "justify_items": null,
            "grid_row": null,
            "max_height": null,
            "align_content": null,
            "visibility": null,
            "align_self": null,
            "height": null,
            "min_height": null,
            "padding": null,
            "grid_auto_rows": null,
            "grid_gap": null,
            "max_width": null,
            "order": null,
            "_view_module_version": "1.2.0",
            "grid_template_areas": null,
            "object_position": null,
            "object_fit": null,
            "grid_auto_columns": null,
            "margin": null,
            "display": null,
            "left": null
          }
        },
        "f171c3f9cd454d748397569208051d3b": {
          "model_module": "@jupyter-widgets/controls",
          "model_name": "DescriptionStyleModel",
          "state": {
            "_view_name": "StyleView",
            "_model_name": "DescriptionStyleModel",
            "description_width": "",
            "_view_module": "@jupyter-widgets/base",
            "_model_module_version": "1.5.0",
            "_view_count": null,
            "_view_module_version": "1.2.0",
            "_model_module": "@jupyter-widgets/controls"
          }
        },
        "73c20fbb06de446883a5ed3f85520bfe": {
          "model_module": "@jupyter-widgets/base",
          "model_name": "LayoutModel",
          "state": {
            "_view_name": "LayoutView",
            "grid_template_rows": null,
            "right": null,
            "justify_content": null,
            "_view_module": "@jupyter-widgets/base",
            "overflow": null,
            "_model_module_version": "1.2.0",
            "_view_count": null,
            "flex_flow": null,
            "width": null,
            "min_width": null,
            "border": null,
            "align_items": null,
            "bottom": null,
            "_model_module": "@jupyter-widgets/base",
            "top": null,
            "grid_column": null,
            "overflow_y": null,
            "overflow_x": null,
            "grid_auto_flow": null,
            "grid_area": null,
            "grid_template_columns": null,
            "flex": null,
            "_model_name": "LayoutModel",
            "justify_items": null,
            "grid_row": null,
            "max_height": null,
            "align_content": null,
            "visibility": null,
            "align_self": null,
            "height": null,
            "min_height": null,
            "padding": null,
            "grid_auto_rows": null,
            "grid_gap": null,
            "max_width": null,
            "order": null,
            "_view_module_version": "1.2.0",
            "grid_template_areas": null,
            "object_position": null,
            "object_fit": null,
            "grid_auto_columns": null,
            "margin": null,
            "display": null,
            "left": null
          }
        },
        "a6a57af6f9d3493187cd07f64ecb853a": {
          "model_module": "@jupyter-widgets/controls",
          "model_name": "HBoxModel",
          "state": {
            "_view_name": "HBoxView",
            "_dom_classes": [],
            "_model_name": "HBoxModel",
            "_view_module": "@jupyter-widgets/controls",
            "_model_module_version": "1.5.0",
            "_view_count": null,
            "_view_module_version": "1.5.0",
            "box_style": "",
            "layout": "IPY_MODEL_73fd8834d60d42da9979b103901979dd",
            "_model_module": "@jupyter-widgets/controls",
            "children": [
              "IPY_MODEL_ca753df317e5434e8dcf6deab623d9ca",
              "IPY_MODEL_9190565b3c76448db3169b1d123e9613"
            ]
          }
        },
        "73fd8834d60d42da9979b103901979dd": {
          "model_module": "@jupyter-widgets/base",
          "model_name": "LayoutModel",
          "state": {
            "_view_name": "LayoutView",
            "grid_template_rows": null,
            "right": null,
            "justify_content": null,
            "_view_module": "@jupyter-widgets/base",
            "overflow": null,
            "_model_module_version": "1.2.0",
            "_view_count": null,
            "flex_flow": null,
            "width": null,
            "min_width": null,
            "border": null,
            "align_items": null,
            "bottom": null,
            "_model_module": "@jupyter-widgets/base",
            "top": null,
            "grid_column": null,
            "overflow_y": null,
            "overflow_x": null,
            "grid_auto_flow": null,
            "grid_area": null,
            "grid_template_columns": null,
            "flex": null,
            "_model_name": "LayoutModel",
            "justify_items": null,
            "grid_row": null,
            "max_height": null,
            "align_content": null,
            "visibility": null,
            "align_self": null,
            "height": null,
            "min_height": null,
            "padding": null,
            "grid_auto_rows": null,
            "grid_gap": null,
            "max_width": null,
            "order": null,
            "_view_module_version": "1.2.0",
            "grid_template_areas": null,
            "object_position": null,
            "object_fit": null,
            "grid_auto_columns": null,
            "margin": null,
            "display": null,
            "left": null
          }
        },
        "ca753df317e5434e8dcf6deab623d9ca": {
          "model_module": "@jupyter-widgets/controls",
          "model_name": "FloatProgressModel",
          "state": {
            "_view_name": "ProgressView",
            "style": "IPY_MODEL_5e866a67aa8148f5835e9e89190c9f5f",
            "_dom_classes": [],
            "description": "100%",
            "_model_name": "FloatProgressModel",
            "bar_style": "success",
            "max": 568411,
            "_view_module": "@jupyter-widgets/controls",
            "_model_module_version": "1.5.0",
            "value": 568411,
            "_view_count": null,
            "_view_module_version": "1.5.0",
            "orientation": "horizontal",
            "min": 0,
            "description_tooltip": null,
            "_model_module": "@jupyter-widgets/controls",
            "layout": "IPY_MODEL_9a6ca7e982324ba381712ab98df7431d"
          }
        },
        "9190565b3c76448db3169b1d123e9613": {
          "model_module": "@jupyter-widgets/controls",
          "model_name": "HTMLModel",
          "state": {
            "_view_name": "HTMLView",
            "style": "IPY_MODEL_abb95f724dad4d168591a32be41888bf",
            "_dom_classes": [],
            "description": "",
            "_model_name": "HTMLModel",
            "placeholder": "​",
            "_view_module": "@jupyter-widgets/controls",
            "_model_module_version": "1.5.0",
            "value": " 568411/568411 [01:36&lt;00:00, 5892.23it/s]",
            "_view_count": null,
            "_view_module_version": "1.5.0",
            "description_tooltip": null,
            "_model_module": "@jupyter-widgets/controls",
            "layout": "IPY_MODEL_6dd5ded433cb424e9719a3d48a468d2a"
          }
        },
        "5e866a67aa8148f5835e9e89190c9f5f": {
          "model_module": "@jupyter-widgets/controls",
          "model_name": "ProgressStyleModel",
          "state": {
            "_view_name": "StyleView",
            "_model_name": "ProgressStyleModel",
            "description_width": "initial",
            "_view_module": "@jupyter-widgets/base",
            "_model_module_version": "1.5.0",
            "_view_count": null,
            "_view_module_version": "1.2.0",
            "bar_color": null,
            "_model_module": "@jupyter-widgets/controls"
          }
        },
        "9a6ca7e982324ba381712ab98df7431d": {
          "model_module": "@jupyter-widgets/base",
          "model_name": "LayoutModel",
          "state": {
            "_view_name": "LayoutView",
            "grid_template_rows": null,
            "right": null,
            "justify_content": null,
            "_view_module": "@jupyter-widgets/base",
            "overflow": null,
            "_model_module_version": "1.2.0",
            "_view_count": null,
            "flex_flow": null,
            "width": null,
            "min_width": null,
            "border": null,
            "align_items": null,
            "bottom": null,
            "_model_module": "@jupyter-widgets/base",
            "top": null,
            "grid_column": null,
            "overflow_y": null,
            "overflow_x": null,
            "grid_auto_flow": null,
            "grid_area": null,
            "grid_template_columns": null,
            "flex": null,
            "_model_name": "LayoutModel",
            "justify_items": null,
            "grid_row": null,
            "max_height": null,
            "align_content": null,
            "visibility": null,
            "align_self": null,
            "height": null,
            "min_height": null,
            "padding": null,
            "grid_auto_rows": null,
            "grid_gap": null,
            "max_width": null,
            "order": null,
            "_view_module_version": "1.2.0",
            "grid_template_areas": null,
            "object_position": null,
            "object_fit": null,
            "grid_auto_columns": null,
            "margin": null,
            "display": null,
            "left": null
          }
        },
        "abb95f724dad4d168591a32be41888bf": {
          "model_module": "@jupyter-widgets/controls",
          "model_name": "DescriptionStyleModel",
          "state": {
            "_view_name": "StyleView",
            "_model_name": "DescriptionStyleModel",
            "description_width": "",
            "_view_module": "@jupyter-widgets/base",
            "_model_module_version": "1.5.0",
            "_view_count": null,
            "_view_module_version": "1.2.0",
            "_model_module": "@jupyter-widgets/controls"
          }
        },
        "6dd5ded433cb424e9719a3d48a468d2a": {
          "model_module": "@jupyter-widgets/base",
          "model_name": "LayoutModel",
          "state": {
            "_view_name": "LayoutView",
            "grid_template_rows": null,
            "right": null,
            "justify_content": null,
            "_view_module": "@jupyter-widgets/base",
            "overflow": null,
            "_model_module_version": "1.2.0",
            "_view_count": null,
            "flex_flow": null,
            "width": null,
            "min_width": null,
            "border": null,
            "align_items": null,
            "bottom": null,
            "_model_module": "@jupyter-widgets/base",
            "top": null,
            "grid_column": null,
            "overflow_y": null,
            "overflow_x": null,
            "grid_auto_flow": null,
            "grid_area": null,
            "grid_template_columns": null,
            "flex": null,
            "_model_name": "LayoutModel",
            "justify_items": null,
            "grid_row": null,
            "max_height": null,
            "align_content": null,
            "visibility": null,
            "align_self": null,
            "height": null,
            "min_height": null,
            "padding": null,
            "grid_auto_rows": null,
            "grid_gap": null,
            "max_width": null,
            "order": null,
            "_view_module_version": "1.2.0",
            "grid_template_areas": null,
            "object_position": null,
            "object_fit": null,
            "grid_auto_columns": null,
            "margin": null,
            "display": null,
            "left": null
          }
        }
      }
    }
  },
  "cells": [
    {
      "cell_type": "markdown",
      "metadata": {
        "id": "view-in-github",
        "colab_type": "text"
      },
      "source": [
        "<a href=\"https://colab.research.google.com/github/guide2157/Seq2Seq2Summarizer/blob/master/AmazonReviewSeq2seq.ipynb\" target=\"_parent\"><img src=\"https://colab.research.google.com/assets/colab-badge.svg\" alt=\"Open In Colab\"/></a>"
      ]
    },
    {
      "cell_type": "code",
      "metadata": {
        "id": "W3IPTXKhhJx7",
        "colab_type": "code",
        "colab": {}
      },
      "source": [
        "import re\n",
        "from nltk.corpus import stopwords\n",
        "import pandas as pd\n",
        "import numpy as np\n",
        "import tensorflow as tf\n",
        "from tensorflow.keras.layers import Embedding, Input, Dense, LSTM, TimeDistributed, Attention, Bidirectional,Concatenate\n",
        "from tensorflow.keras.models import Model\n",
        "\n",
        "from sklearn.model_selection import train_test_split\n",
        "from tensorflow.keras.preprocessing.sequence import pad_sequences"
      ],
      "execution_count": 0,
      "outputs": []
    },
    {
      "cell_type": "code",
      "metadata": {
        "id": "YmpcC-H55gjI",
        "colab_type": "code",
        "outputId": "7f83a122-f03a-4220-b433-b71c1d18130f",
        "colab": {
          "base_uri": "https://localhost:8080/",
          "height": 68
        }
      },
      "source": [
        "import nltk\n",
        "nltk.download('stopwords')"
      ],
      "execution_count": 2,
      "outputs": [
        {
          "output_type": "stream",
          "text": [
            "[nltk_data] Downloading package stopwords to /root/nltk_data...\n",
            "[nltk_data]   Unzipping corpora/stopwords.zip.\n"
          ],
          "name": "stdout"
        },
        {
          "output_type": "execute_result",
          "data": {
            "text/plain": [
              "True"
            ]
          },
          "metadata": {
            "tags": []
          },
          "execution_count": 2
        }
      ]
    },
    {
      "cell_type": "code",
      "metadata": {
        "id": "rHSdcjbAGIPe",
        "colab_type": "code",
        "outputId": "cd2a019d-0114-49bd-a845-47b7d4e4d183",
        "colab": {
          "base_uri": "https://localhost:8080/",
          "height": 34
        }
      },
      "source": [
        "!pip install tqdm"
      ],
      "execution_count": 3,
      "outputs": [
        {
          "output_type": "stream",
          "text": [
            "Requirement already satisfied: tqdm in /usr/local/lib/python3.6/dist-packages (4.41.1)\n"
          ],
          "name": "stdout"
        }
      ]
    },
    {
      "cell_type": "code",
      "metadata": {
        "id": "R8ToFjWUEOWq",
        "colab_type": "code",
        "colab": {}
      },
      "source": [
        "import os\n",
        "from tqdm.notebook import tqdm"
      ],
      "execution_count": 0,
      "outputs": []
    },
    {
      "cell_type": "code",
      "metadata": {
        "id": "tmaQ7ubcD_9_",
        "colab_type": "code",
        "outputId": "a40194ea-c24c-4b13-9edd-4bf1b6419bea",
        "colab": {
          "base_uri": "https://localhost:8080/",
          "height": 122
        }
      },
      "source": [
        "from google.colab import drive\n",
        "drive.mount('/content/drive')"
      ],
      "execution_count": 5,
      "outputs": [
        {
          "output_type": "stream",
          "text": [
            "Go to this URL in a browser: https://accounts.google.com/o/oauth2/auth?client_id=947318989803-6bn6qk8qdgf4n4g3pfee6491hc0brc4i.apps.googleusercontent.com&redirect_uri=urn%3aietf%3awg%3aoauth%3a2.0%3aoob&response_type=code&scope=email%20https%3a%2f%2fwww.googleapis.com%2fauth%2fdocs.test%20https%3a%2f%2fwww.googleapis.com%2fauth%2fdrive%20https%3a%2f%2fwww.googleapis.com%2fauth%2fdrive.photos.readonly%20https%3a%2f%2fwww.googleapis.com%2fauth%2fpeopleapi.readonly\n",
            "\n",
            "Enter your authorization code:\n",
            "··········\n",
            "Mounted at /content/drive\n"
          ],
          "name": "stdout"
        }
      ]
    },
    {
      "cell_type": "markdown",
      "metadata": {
        "id": "pm768MVtyxPS",
        "colab_type": "text"
      },
      "source": [
        "Import Amazon Review Dataset"
      ]
    },
    {
      "cell_type": "code",
      "metadata": {
        "id": "9Xu9HQilCnGQ",
        "colab_type": "code",
        "colab": {}
      },
      "source": [
        "dataset = pd.read_csv(\"Reviews.csv\")\n",
        "dataset = dataset.dropna()\n",
        "text = dataset['Text']\n",
        "summary = dataset['Summary']"
      ],
      "execution_count": 0,
      "outputs": []
    },
    {
      "cell_type": "markdown",
      "metadata": {
        "id": "D7R8Cmd4y15S",
        "colab_type": "text"
      },
      "source": [
        "Import BBC News Dataset"
      ]
    },
    {
      "cell_type": "code",
      "metadata": {
        "id": "L726BmbxRIYN",
        "colab_type": "code",
        "outputId": "058a5558-3e85-42d6-b92f-fe8779214251",
        "colab": {
          "base_uri": "https://localhost:8080/",
          "height": 311,
          "referenced_widgets": [
            "8eeb688cc9d74b63933cbaf1de184294",
            "12909ec271984143804561df874a8336",
            "556f37b450aa495abcc878346b10fe2f",
            "76216f63761f4529919715d231419150",
            "e21788ba734d419dbc1f88dc5989518d",
            "ab0de23d66d948a4bf6e838fddb3b9f3",
            "ab06947793e0427cbf57072a0ed218b9",
            "410924e41f9043608f702352c502743a",
            "0576ec501e774eccbe6df23c2d41dea9",
            "05911a0832e94f0e90eaddd58ec0bd88",
            "764edde93d5146488b72137fccc7ef77",
            "b160da07f014461ab205b772ee67c49b",
            "605187ac4145430c9859570d2314ea23",
            "675fa6961e80428889c746daae5aa565",
            "b89ee6168cb04c97a4cdb7b82bceeab9",
            "6c54a8467df342e6aeb882cd60b5a2b4",
            "7925ffe0c447403c8c9294f8fab3a2a4",
            "ff7397f67df340ce948dff26e982befb",
            "86db6bef98c748879c495c60504901b7",
            "ab4bc4e341724ab0b39cbd3d3412ef50",
            "f190fe9637ed4a9a84d152181aac1df4",
            "cbe1a461643f47c197759cef266e11b5",
            "fb23e6cf18cc40e4b8cecb6da34f3673",
            "8bbcdceebc4b428a86c30ae327fdf652",
            "9c595721ed394db0ab5dd1a5f012a6d9",
            "06ec6d28f42b4eb192e57614c3445f7d",
            "c64961ec469e41069aa1aa16d1c211ad",
            "dfccddac416247b699e055436c920389",
            "63f5dc3e2eac4f868b9e14bb1ff1178a",
            "1f937a9be55a4fb3aa47ec09716b59b5",
            "ff0a0d11de95454a9421df308bb9a23c",
            "e0eb9a51277048e7807ea21c8860ccd2",
            "726e81dfae214dd8841c86c477537859",
            "e6c8606dbce74f7c8963d29735947c88",
            "731c51ff3e384916a817b87a71091fe7",
            "2e79ce4a1c344cfa865f0a63dbafc040",
            "fcd48f859e01421c912c79c0938c25c8",
            "f86c5c35d4bc4e4ebe9ab1961b1bd841",
            "61ed6e98bee4453bb49ed11c98d05054",
            "cc5393d99412495a9e25a6ea3b9c8b90",
            "bd4da2f449fb4d26ad738735aab46235",
            "4e699fee77ca427d894e3d7fb1afa997",
            "d396f004ee1f47238f35e0583d57ac60",
            "3036831fc58f4d51ba7e999bfd05646e",
            "1a172936f25b4c35813fcb540d81bd91",
            "de52eb925f114b4d97445714e3f945d4",
            "be025b70628e4433bfd03a5c8d90ef27",
            "92b6496638af40768407018ffdda0d1d"
          ]
        }
      },
      "source": [
        "news_text = []\n",
        "news_summary=[]\n",
        "\n",
        "input_path_tx = 'drive/My Drive/BBC News Summary/News Articles'\n",
        "# input_path_sum = 'drive/My Drive/BBC News Summary/Summaries'\n",
        "for cat in tqdm(os.listdir(input_path_tx)):\n",
        "  current_dir_tx = os.path.join(input_path_tx, cat)\n",
        "  # current_dir_sum = os.path.join(input_path_sum, cat)\n",
        "  for file in tqdm(os.listdir(current_dir_tx)):\n",
        "    try:\n",
        "      with open(os.path.join(current_dir_tx,file), 'r') as file1:\n",
        "        data_sum = file1.readline()\n",
        "        data_tx = file1.read().replace('\\n', '')\n",
        "      # with open(os.path.join(current_dir_sum,file), 'r') as file2:\n",
        "      #   data_sum = file2.read().replace('\\n', '')\n",
        "      news_text.append(data_tx)\n",
        "      news_summary.append(data_sum)\n",
        "    except:\n",
        "      continue"
      ],
      "execution_count": 6,
      "outputs": [
        {
          "output_type": "display_data",
          "data": {
            "application/vnd.jupyter.widget-view+json": {
              "model_id": "8eeb688cc9d74b63933cbaf1de184294",
              "version_minor": 0,
              "version_major": 2
            },
            "text/plain": [
              "HBox(children=(FloatProgress(value=0.0, max=5.0), HTML(value='')))"
            ]
          },
          "metadata": {
            "tags": []
          }
        },
        {
          "output_type": "display_data",
          "data": {
            "application/vnd.jupyter.widget-view+json": {
              "model_id": "0576ec501e774eccbe6df23c2d41dea9",
              "version_minor": 0,
              "version_major": 2
            },
            "text/plain": [
              "HBox(children=(FloatProgress(value=0.0, max=401.0), HTML(value='')))"
            ]
          },
          "metadata": {
            "tags": []
          }
        },
        {
          "output_type": "stream",
          "text": [
            "\n"
          ],
          "name": "stdout"
        },
        {
          "output_type": "display_data",
          "data": {
            "application/vnd.jupyter.widget-view+json": {
              "model_id": "7925ffe0c447403c8c9294f8fab3a2a4",
              "version_minor": 0,
              "version_major": 2
            },
            "text/plain": [
              "HBox(children=(FloatProgress(value=0.0, max=386.0), HTML(value='')))"
            ]
          },
          "metadata": {
            "tags": []
          }
        },
        {
          "output_type": "stream",
          "text": [
            "\n"
          ],
          "name": "stdout"
        },
        {
          "output_type": "display_data",
          "data": {
            "application/vnd.jupyter.widget-view+json": {
              "model_id": "9c595721ed394db0ab5dd1a5f012a6d9",
              "version_minor": 0,
              "version_major": 2
            },
            "text/plain": [
              "HBox(children=(FloatProgress(value=0.0, max=417.0), HTML(value='')))"
            ]
          },
          "metadata": {
            "tags": []
          }
        },
        {
          "output_type": "stream",
          "text": [
            "\n"
          ],
          "name": "stdout"
        },
        {
          "output_type": "display_data",
          "data": {
            "application/vnd.jupyter.widget-view+json": {
              "model_id": "726e81dfae214dd8841c86c477537859",
              "version_minor": 0,
              "version_major": 2
            },
            "text/plain": [
              "HBox(children=(FloatProgress(value=0.0, max=511.0), HTML(value='')))"
            ]
          },
          "metadata": {
            "tags": []
          }
        },
        {
          "output_type": "stream",
          "text": [
            "\n"
          ],
          "name": "stdout"
        },
        {
          "output_type": "display_data",
          "data": {
            "application/vnd.jupyter.widget-view+json": {
              "model_id": "bd4da2f449fb4d26ad738735aab46235",
              "version_minor": 0,
              "version_major": 2
            },
            "text/plain": [
              "HBox(children=(FloatProgress(value=0.0, max=510.0), HTML(value='')))"
            ]
          },
          "metadata": {
            "tags": []
          }
        },
        {
          "output_type": "stream",
          "text": [
            "\n",
            "\n"
          ],
          "name": "stdout"
        }
      ]
    },
    {
      "cell_type": "code",
      "metadata": {
        "id": "v3Nm97J5mF1h",
        "colab_type": "code",
        "colab": {}
      },
      "source": [
        "def clean_text(text, add_signal=False, remove_stopwords=True):\n",
        "    text = text.lower()\n",
        "\n",
        "    text = text.split()\n",
        "    new_text = []\n",
        "    for word in text:\n",
        "        if word in contractions:\n",
        "            new_text.append(contractions[word])\n",
        "        else:\n",
        "            new_text.append(word)\n",
        "\n",
        "    text = \" \".join(new_text)\n",
        "\n",
        "    text = re.sub(r'https?:\\/\\/.*[\\r\\n]*', '', text, flags=re.MULTILINE)\n",
        "    text = re.sub(r'\\<a href', ' ', text)\n",
        "    text = re.sub(r'&amp;', '', text)\n",
        "    text = re.sub(r'[_\"\\-;%()|+&=*%.,!?:#$@\\[\\]/]', ' ', text)\n",
        "    text = re.sub(r'<br />', ' ', text)\n",
        "    text = re.sub(r'<br  >', ' ', text)\n",
        "    text = re.sub(r'\\'', ' ', text)\n",
        "    \n",
        "    if remove_stopwords:\n",
        "        text = text.split()\n",
        "        stops = set(stopwords.words(\"english\"))\n",
        "        text = [w for w in text if not w in stops]\n",
        "        text = \" \".join(text)\n",
        "\n",
        "    if add_signal:\n",
        "      text = '_START_ '+ str(text) + ' _END_'\n",
        "\n",
        "    return text\n"
      ],
      "execution_count": 0,
      "outputs": []
    },
    {
      "cell_type": "markdown",
      "metadata": {
        "id": "WWy5_lYvy84v",
        "colab_type": "text"
      },
      "source": [
        "Clean Dataset"
      ]
    },
    {
      "cell_type": "code",
      "metadata": {
        "id": "QZrAm4sKfiKx",
        "colab_type": "code",
        "colab": {
          "base_uri": "https://localhost:8080/",
          "height": 66,
          "referenced_widgets": [
            "602771bf183d4c2295012bcf7aae0d35",
            "a38dd1f907f64e8ca99b78a74fb6bdad",
            "c33162242e704710a88d737e04f60a9a",
            "4ce0e42449db4ab7b51c7129060d1fe6",
            "038bb33dc3434142b8edd35a4fbdc048",
            "b36c2585742b45c5a04d66fe21d96ee8",
            "0fa0c08b04474c7d9c70f15cac04d7fa",
            "df84c7624bd34f8298d729de7d0f7686"
          ]
        },
        "outputId": "e748c145-2afe-433e-97ac-8cd19fa601e3"
      },
      "source": [
        "cleaned_summary_news = []\n",
        "for t in tqdm(news_summary):\n",
        "    cleaned_summary_news.append(clean_text(t, True))"
      ],
      "execution_count": 14,
      "outputs": [
        {
          "output_type": "display_data",
          "data": {
            "application/vnd.jupyter.widget-view+json": {
              "model_id": "602771bf183d4c2295012bcf7aae0d35",
              "version_minor": 0,
              "version_major": 2
            },
            "text/plain": [
              "HBox(children=(FloatProgress(value=0.0, max=2224.0), HTML(value='')))"
            ]
          },
          "metadata": {
            "tags": []
          }
        },
        {
          "output_type": "stream",
          "text": [
            "\n"
          ],
          "name": "stdout"
        }
      ]
    },
    {
      "cell_type": "code",
      "metadata": {
        "id": "KJGkPSTgftdV",
        "colab_type": "code",
        "colab": {
          "base_uri": "https://localhost:8080/",
          "height": 66,
          "referenced_widgets": [
            "2ac2ec6174fd46a79dfe2e25c3247b6a",
            "6aa9a246ee944b01b9547e7857e7ba85",
            "54765de9f2024cd6924130bcbcc03b36",
            "1b2a4735c82848568339331147f2eec1",
            "e06f182900c6487da3eaa5c3d3746250",
            "0b8124375d7f4e85bd1491cea43d39e4",
            "3e19926e79774c4a98d1cce7a709c981",
            "a26ae7f8350a4fe8a9188da77039240d"
          ]
        },
        "outputId": "41080b1d-1874-4080-f3d8-bd25ad823d90"
      },
      "source": [
        "cleaned_text_news = []\n",
        "for t in tqdm(news_text):\n",
        "    cleaned_text_news.append(clean_text(t))"
      ],
      "execution_count": 15,
      "outputs": [
        {
          "output_type": "display_data",
          "data": {
            "application/vnd.jupyter.widget-view+json": {
              "model_id": "2ac2ec6174fd46a79dfe2e25c3247b6a",
              "version_minor": 0,
              "version_major": 2
            },
            "text/plain": [
              "HBox(children=(FloatProgress(value=0.0, max=2224.0), HTML(value='')))"
            ]
          },
          "metadata": {
            "tags": []
          }
        },
        {
          "output_type": "stream",
          "text": [
            "\n"
          ],
          "name": "stdout"
        }
      ]
    },
    {
      "cell_type": "code",
      "metadata": {
        "id": "QTmuROugvorZ",
        "colab_type": "code",
        "colab": {
          "base_uri": "https://localhost:8080/",
          "height": 66,
          "referenced_widgets": [
            "f0958db33a3245f682ed56220df7ad87",
            "99ac093735a24c759b4ea30c3955211a",
            "40def898fb3e44faa1b9e8e215db1a30",
            "5f3859f2a02b4e46af5df08d531c2c6e",
            "da39a794bc074f1f83fb07a9fc6ac249",
            "646f28e855404142b07e9b8e5d541968",
            "f171c3f9cd454d748397569208051d3b",
            "73c20fbb06de446883a5ed3f85520bfe"
          ]
        },
        "outputId": "add78760-3ceb-4d84-8c64-8d15212b54aa"
      },
      "source": [
        "cleaned_summary = []\n",
        "for t in tqdm(summary):\n",
        "    cleaned_summary.append(clean_text(t, True))"
      ],
      "execution_count": 17,
      "outputs": [
        {
          "output_type": "display_data",
          "data": {
            "application/vnd.jupyter.widget-view+json": {
              "model_id": "f0958db33a3245f682ed56220df7ad87",
              "version_minor": 0,
              "version_major": 2
            },
            "text/plain": [
              "HBox(children=(FloatProgress(value=0.0, max=568411.0), HTML(value='')))"
            ]
          },
          "metadata": {
            "tags": []
          }
        },
        {
          "output_type": "stream",
          "text": [
            "\n"
          ],
          "name": "stdout"
        }
      ]
    },
    {
      "cell_type": "code",
      "metadata": {
        "id": "mu-83Kc2kE0b",
        "colab_type": "code",
        "colab": {
          "base_uri": "https://localhost:8080/",
          "height": 66,
          "referenced_widgets": [
            "a6a57af6f9d3493187cd07f64ecb853a",
            "73fd8834d60d42da9979b103901979dd",
            "ca753df317e5434e8dcf6deab623d9ca",
            "9190565b3c76448db3169b1d123e9613",
            "5e866a67aa8148f5835e9e89190c9f5f",
            "9a6ca7e982324ba381712ab98df7431d",
            "abb95f724dad4d168591a32be41888bf",
            "6dd5ded433cb424e9719a3d48a468d2a"
          ]
        },
        "outputId": "3d4555d8-0853-4be5-c4ac-ece678bd5713"
      },
      "source": [
        "cleaned_text = []\n",
        "for t in tqdm(text):\n",
        "    cleaned_text.append(clean_text(t))"
      ],
      "execution_count": 18,
      "outputs": [
        {
          "output_type": "display_data",
          "data": {
            "application/vnd.jupyter.widget-view+json": {
              "model_id": "a6a57af6f9d3493187cd07f64ecb853a",
              "version_minor": 0,
              "version_major": 2
            },
            "text/plain": [
              "HBox(children=(FloatProgress(value=0.0, max=568411.0), HTML(value='')))"
            ]
          },
          "metadata": {
            "tags": []
          }
        },
        {
          "output_type": "stream",
          "text": [
            "\n"
          ],
          "name": "stdout"
        }
      ]
    },
    {
      "cell_type": "markdown",
      "metadata": {
        "id": "oX5xu1Cqy_s3",
        "colab_type": "text"
      },
      "source": [
        "Detemine Input Size"
      ]
    },
    {
      "cell_type": "code",
      "metadata": {
        "id": "Xtz1GDcWtK0Q",
        "colab_type": "code",
        "colab": {
          "base_uri": "https://localhost:8080/",
          "height": 490
        },
        "outputId": "8e345b04-2101-4862-93bc-7f9fd541e186"
      },
      "source": [
        "import seaborn as sns\n",
        "import matplotlib.pyplot as plt\n",
        "\n",
        "len_text = [len(i.split()) for i in cleaned_text]\n",
        "len_sum = [len(i.split()) for i in cleaned_summary]\n",
        "\n",
        "len_text_news = [len(i.split()) for i in cleaned_text_news]\n",
        "len_sum_news = [len(i.split()) for i in cleaned_summary_news]\n",
        "\n",
        "plt.figure(figsize=(20,10))\n",
        "\n",
        "plt.subplot(2,2,1)\n",
        "sns.distplot(len_text)\n",
        "plt.title(\"Review texts length\")\n",
        "\n",
        "plt.subplot(2,2,2)\n",
        "sns.distplot(len_sum)\n",
        "plt.title(\"Review summaries length\")\n",
        "\n",
        "plt.subplot(2,2,3)\n",
        "sns.distplot(len_text_news)\n",
        "plt.title(\"News text length\")\n",
        "\n",
        "plt.subplot(2,2,4)\n",
        "sns.distplot(len_sum_news)\n",
        "plt.title(\"News summaries length\")\n",
        "\n",
        "# sns.distplot(len_sum)\n",
        "# plt.title(\"Summaries length\")\n",
        "# plt.show()"
      ],
      "execution_count": 92,
      "outputs": [
        {
          "output_type": "execute_result",
          "data": {
            "text/plain": [
              "Text(0.5, 1.0, 'News summaries length')"
            ]
          },
          "metadata": {
            "tags": []
          },
          "execution_count": 92
        },
        {
          "output_type": "display_data",
          "data": {
            "image/png": "[encoded data removed]",
            "text/plain": [
              "<Figure size 1440x720 with 4 Axes>"
            ]
          },
          "metadata": {
            "tags": [],
            "needs_background": "light"
          }
        }
      ]
    },
    {
      "cell_type": "code",
      "metadata": {
        "id": "sGxDJuyeiFPm",
        "colab_type": "code",
        "colab": {}
      },
      "source": [
        "max_len_text =250\n",
        "max_len_summary=10"
      ],
      "execution_count": 0,
      "outputs": []
    },
    {
      "cell_type": "code",
      "metadata": {
        "id": "li8KU6Rh2h_M",
        "colab_type": "code",
        "colab": {
          "base_uri": "https://localhost:8080/",
          "height": 105
        },
        "outputId": "17750c71-bc4a-4501-ae4b-893470d3fcc3"
      },
      "source": [
        "print(cleaned_text[0])\n",
        "print(cleaned_summary[0],'\\n')\n",
        "\n",
        "print(cleaned_text_news[0])\n",
        "print(cleaned_summary_news[0])"
      ],
      "execution_count": 95,
      "outputs": [
        {
          "output_type": "stream",
          "text": [
            "bought several vitality canned dog food products found good quality product looks like stew processed meat smells better labrador finicky appreciates product better\n",
            "_START_ good quality dog food _END_\n",
            "mac mini cheapest apple computer ever though cheap mac compare pcs cost amount dot life tries find get money stick beige box extremely small computer designed bring macintosh masses apple offer less powerful mac mini £339 £399 models 1 4ghz power pc chip 80 gigabyte hard drive combined cd burner dvd player comes equipped usb firewire ports peripheral connections ethernet port broadband port standard video output audio headphone jack machine comes mac os x apple operating system software suite ilife includes itunes iphoto imovie idvd garageband monitor keyboard mouse also built support wireless technology speakers lack dvd burner omission age backing important software wireless dvd burner added extra cost apple targeting people already main computer want upgrade especially pc users used apple ipod compact stylish mac mini would look place home apple computers famously user friendly offer much better network security means fewer viruses package software comes machine best money buy mac mini box already monitor etc adding package sees value money begin dwindle macs offer upgrade flexibility pc machine specifications lack horse power tasks high end video editing games mac mini puts macintosh within reach everyone apple spokesman said bring customers platform especially pc users owners entry level machine designed basic home use 2 6ghz intel celeron chip 40 gigabyte hard drive 256mb combined cd burner dvd player comes equipped 17 inch monitor keyboard mouse machine 6 usb ports ethernet port broadband connection also port standard video output machine comes windows xp home edition provides basic home tools media player word processor dvd burner wireless components built wireless dvd burner added extra cost homes small offices including looking add low cost second computer cost clear advantage dell provides enough power software basic gaming internet surfing easily upgradeable bigger hard drive better sound graphics cards added dell hardly stylish hard drive small size anyone wanting store photos decent sized digital music collection machine small businesses people want second computer basic home use perhaps kids bedroom spokesman dell said think offer better value realise extras needed mac mini desktop computer pc pro magazine dubbed best performer group test machines cost £399 £469 including vat good basic pc according pc pro superb upgrade potential money get 1 8ghz amd sempron processor 512mb ram 120gb hard drive dvd writer 16 inch monitor mouse keyboard windows xp2much basics cannot handle 3d graphics firewire slots limited budget want machine add improve cash allows cheap plenty room improve could end making expensive long run good basic workhorse pretty monitor rather flat panel display upgrades offered jal basic model pricey might find want chop change quite quickly nick ross deputy labs editor pc pro said important point buying cheap cheerful pc upgrade path interest switched processor power graphics sound cards makes difference games even manufacturers going marketing machines faster said emphasise different features computer built bits buy put together surprisingly good pc sporting amd athlon xp 2500 processor 512 megabytes ram graphics card 128 ram board plus tv 40 gb hard drive cd writer dvd player windows xp home anything else building buy software want install trouble shooting tech support building machine easier used need read specifications carefully make sure parts work together experienced keen pc users building pc upgrading one great way improve understanding works cheap specify exactly want get thrill putting together bigger thrill everything works built able much start buying software starts go wrong might take lot fixing gavin cox excellent buildyourown org uk website put tough obtain build pc ever compact charming mac mini performance wise cutting edge barely entry level today market mac mini believe hold even pull tricks says gavin cox good news machine eminently expandable contrast says mr cox mac mini almost disposable\n",
            "_START_ rivals £400 apple _END_\n"
          ],
          "name": "stdout"
        }
      ]
    },
    {
      "cell_type": "code",
      "metadata": {
        "id": "XMeoycP2h77-",
        "colab_type": "code",
        "colab": {}
      },
      "source": [
        "cleaned_text = cleaned_text + cleaned_text_news\n",
        "cleaned_summary = cleaned_summary + cleaned_summary_news"
      ],
      "execution_count": 0,
      "outputs": []
    },
    {
      "cell_type": "markdown",
      "metadata": {
        "id": "U8FTelsWzKTf",
        "colab_type": "text"
      },
      "source": [
        "Tokenize sentences"
      ]
    },
    {
      "cell_type": "code",
      "metadata": {
        "id": "mBjol_qKNO37",
        "colab_type": "code",
        "colab": {}
      },
      "source": [
        "from keras.preprocessing.text import Tokenizer \n",
        "\n",
        "x_tokenizer = Tokenizer(oov_token='UNK',filters='',lower=False)\n",
        "x_tokenizer.fit_on_texts(cleaned_text)\n",
        "x_sequences = x_tokenizer.texts_to_sequences(cleaned_text)\n",
        "\n",
        "y_tokenizer = Tokenizer(oov_token='UNK', filters='',lower=False)\n",
        "y_tokenizer.fit_on_texts(cleaned_summary)\n",
        "y_sequences = y_tokenizer.texts_to_sequences(cleaned_summary)"
      ],
      "execution_count": 0,
      "outputs": []
    },
    {
      "cell_type": "code",
      "metadata": {
        "id": "uvXGpN1hQpUy",
        "colab_type": "code",
        "colab": {}
      },
      "source": [
        "def read_glove_vecs(glove_file):\n",
        "    with open(glove_file, 'r', encoding='UTF-8') as f:\n",
        "        words = set()\n",
        "        word_to_vec_map = {}\n",
        "        for line in f:\n",
        "            line = line.strip().split()\n",
        "            curr_word = line[0]\n",
        "            words.add(curr_word)\n",
        "            word_to_vec_map[curr_word] = np.array(line[1:], dtype=np.float64)\n",
        "\n",
        "    return word_to_vec_map"
      ],
      "execution_count": 0,
      "outputs": []
    },
    {
      "cell_type": "code",
      "metadata": {
        "id": "Eq5vfWQvOfL8",
        "colab_type": "code",
        "colab": {}
      },
      "source": [
        "X_train, X_val, y_train, y_val = train_test_split(x_sequences, y_sequences, test_size=0.1,\n",
        "                                                random_state=42, shuffle=True)"
      ],
      "execution_count": 0,
      "outputs": []
    },
    {
      "cell_type": "code",
      "metadata": {
        "id": "PxJtMybHk-dB",
        "colab_type": "code",
        "colab": {}
      },
      "source": [
        "X_train = pad_sequences(X_train, maxlen=max_len_text, padding='post')\n",
        "X_val = pad_sequences(X_val, maxlen=max_len_text, padding='post')"
      ],
      "execution_count": 0,
      "outputs": []
    },
    {
      "cell_type": "code",
      "metadata": {
        "id": "XgK8ugR-lDsc",
        "colab_type": "code",
        "colab": {}
      },
      "source": [
        "y_train = pad_sequences(y_train, maxlen=max_len_summary, padding='post')\n",
        "y_val = pad_sequences(y_val, maxlen=max_len_summary, padding='post')"
      ],
      "execution_count": 0,
      "outputs": []
    },
    {
      "cell_type": "markdown",
      "metadata": {
        "id": "FTK_bO9mzNUj",
        "colab_type": "text"
      },
      "source": [
        "Import Glove vec"
      ]
    },
    {
      "cell_type": "code",
      "metadata": {
        "id": "WDIcZ4qB5S7M",
        "colab_type": "code",
        "colab": {}
      },
      "source": [
        "word_to_vec_map = read_glove_vecs(\"glove.6B.100d.txt\")"
      ],
      "execution_count": 0,
      "outputs": []
    },
    {
      "cell_type": "code",
      "metadata": {
        "id": "zCMrXvdNQxXr",
        "colab_type": "code",
        "colab": {}
      },
      "source": [
        "def Glove_Embedding(word_to_vec_map, word_to_index):\n",
        "    vocab_len = len(word_to_index) + 1\n",
        "    emb_dim = word_to_vec_map[\"the\"].shape[0]\n",
        "    emb_matrix = np.zeros([vocab_len, emb_dim])\n",
        "\n",
        "    for word, idx in word_to_index.items():\n",
        "        if word in word_to_vec_map:\n",
        "            emb_matrix[idx, :] = word_to_vec_map[word]\n",
        "        else:\n",
        "            emb_matrix[idx, :] = np.array(np.random.uniform(-1.0, 1.0, emb_dim))\n",
        "\n",
        "    embedding_layer = Embedding(vocab_len, emb_dim)\n",
        "    embedding_layer.trainable = False\n",
        "\n",
        "    embedding_layer.build((None,))\n",
        "    embedding_layer.set_weights([emb_matrix])\n",
        "    return embedding_layer"
      ],
      "execution_count": 0,
      "outputs": []
    },
    {
      "cell_type": "markdown",
      "metadata": {
        "id": "gSWvJteXzXlr",
        "colab_type": "text"
      },
      "source": [
        "Model Construction"
      ]
    },
    {
      "cell_type": "code",
      "metadata": {
        "id": "iykD_TXYeU09",
        "colab_type": "code",
        "colab": {}
      },
      "source": [
        "class Encoder(tf.keras.Model):\n",
        "  def __init__(self, word_to_vec_map, words_to_index, latent_dim):\n",
        "    super(Encoder, self).__init__()\n",
        "    self.latent_dim = latent_dim\n",
        "    self.embedding_layer = Glove_Embedding(word_to_vec_map, words_to_index)\n",
        "    # self.embedding_layer = Embedding(len(words_to_index) + 1, latent_dim)\n",
        "    self.lstm1 = Bidirectional(LSTM(latent_dim, dropout=0.2, return_state=True, return_sequences=True))\n",
        "\n",
        "  def call(self,inputs):\n",
        "    embed = self.embedding_layer(inputs)\n",
        "    encoder_output1, f_state_h, f_state_c, b_state_h, b_state_c = self.lstm1(embed)\n",
        "    state_h= Concatenate()([f_state_h, b_state_h])\n",
        "    state_c= Concatenate()([f_state_c, b_state_c])\n",
        "    return encoder_output1, state_h, state_c"
      ],
      "execution_count": 0,
      "outputs": []
    },
    {
      "cell_type": "code",
      "metadata": {
        "id": "svg9KlhOzp2C",
        "colab_type": "code",
        "colab": {}
      },
      "source": [
        "class Decoder(tf.keras.Model):\n",
        "  def __init__(self, word_to_vec_map, words_to_index, latent_dim):\n",
        "    super(Decoder, self).__init__()\n",
        "    self.latent_dim = latent_dim\n",
        "    # self.embedding_layer = Embedding(len(words_to_index) + 1, latent_dim)\n",
        "    self.embedding_layer = Glove_Embedding(word_to_vec_map, words_to_index)\n",
        "    self.lstm = LSTM(latent_dim * 2, return_sequences=True, return_state=True,dropout=0.2)\n",
        "    self.attention = Attention()\n",
        "    self.time_dist = TimeDistributed(Dense(len(words_to_index) + 1, activation='softmax'))\n",
        "\n",
        "  def call(self, inputs, encoder_output, states):\n",
        "    state_h, state_c = states\n",
        "    embed = self.embedding_layer(inputs)\n",
        "    lstm_out, state_h, state_c = self.lstm(embed, initial_state=[state_h, state_c])\n",
        "    attn_out = self.attention([lstm_out, encoder_output]) \n",
        "    decoder_concat_input = tf.concat([lstm_out, attn_out], axis=-1)\n",
        "    outputs = self.time_dist(decoder_concat_input)  \n",
        "    return outputs, state_h, state_c"
      ],
      "execution_count": 0,
      "outputs": []
    },
    {
      "cell_type": "code",
      "metadata": {
        "id": "Z8p7mo-JpPbf",
        "colab_type": "code",
        "colab": {}
      },
      "source": [
        "def Text_Summarizer(max_len_text, max_len_sum, word_to_vec_map, x_words_to_index, y_words_to_index, latent_dim=100):\n",
        "\n",
        "    encoder_input = Input(shape=(max_len_text, ), dtype=\"int32\")\n",
        "    encoder = Encoder(word_to_vec_map,x_words_to_index, latent_dim)\n",
        "    encoder_outputs, state_h, state_c = encoder(encoder_input)\n",
        "\n",
        "    decoder_input = Input(shape=(None, ))\n",
        "    decoder = Decoder(word_to_vec_map,y_words_to_index,latent_dim)\n",
        "    output, decoder_state_h, decoder_state_c = decoder(decoder_input, encoder_outputs, (state_h, state_c))\n",
        "\n",
        "    model = Model([encoder_input, decoder_input], output)\n",
        "\n",
        "    encoder_model = Model(inputs=encoder_input,outputs=[encoder_outputs, state_h, state_c])\n",
        "\n",
        "\n",
        "    decoder_state_input_h = Input(shape=(latent_dim *2,))\n",
        "    decoder_state_input_c = Input(shape=(latent_dim * 2,))\n",
        "\n",
        "    decoder_encoder_input = Input(shape=(max_len_text,latent_dim *2, ))\n",
        "\n",
        "    output2, decoder_state_h2, decoder_state_c2 = decoder(decoder_input, decoder_encoder_input, (decoder_state_input_h, decoder_state_input_c))\n",
        "\n",
        "\n",
        "    decoder_model = Model(\n",
        "    [decoder_input] + [decoder_encoder_input]+[decoder_state_input_h, decoder_state_input_c],\n",
        "    outputs=[output2]+[decoder_state_h2, decoder_state_c2])\n",
        "\n",
        "    return model, encoder_model, decoder_model"
      ],
      "execution_count": 0,
      "outputs": []
    },
    {
      "cell_type": "code",
      "metadata": {
        "id": "Wajylh90TF-W",
        "colab_type": "code",
        "colab": {}
      },
      "source": [
        "x_words_to_index = x_tokenizer.word_index\n",
        "y_words_to_index = y_tokenizer.word_index"
      ],
      "execution_count": 0,
      "outputs": []
    },
    {
      "cell_type": "code",
      "metadata": {
        "id": "8hcv6BsFh8LG",
        "colab_type": "code",
        "colab": {}
      },
      "source": [
        "model, encoder_model, decoder_model = Text_Summarizer(max_len_text,max_len_summary, word_to_vec_map ,x_words_to_index, y_words_to_index)"
      ],
      "execution_count": 0,
      "outputs": []
    },
    {
      "cell_type": "code",
      "metadata": {
        "id": "5_SgIM-SEvXO",
        "colab_type": "code",
        "outputId": "f6658502-7511-488b-80ba-1f55c629e176",
        "colab": {
          "base_uri": "https://localhost:8080/",
          "height": 289
        }
      },
      "source": [
        "model.summary()"
      ],
      "execution_count": 146,
      "outputs": [
        {
          "output_type": "stream",
          "text": [
            "Model: \"model_15\"\n",
            "__________________________________________________________________________________________________\n",
            "Layer (type)                    Output Shape         Param #     Connected to                     \n",
            "==================================================================================================\n",
            "input_28 (InputLayer)           [(None, 250)]        0                                            \n",
            "__________________________________________________________________________________________________\n",
            "input_29 (InputLayer)           [(None, None)]       0                                            \n",
            "__________________________________________________________________________________________________\n",
            "encoder_7 (Encoder)             ((None, 250, 200), ( 12370100    input_28[0][0]                   \n",
            "__________________________________________________________________________________________________\n",
            "decoder_5 (Decoder)             ((None, None, 35131) 17841431    input_29[0][0]                   \n",
            "==================================================================================================\n",
            "Total params: 30,211,531\n",
            "Trainable params: 14,489,131\n",
            "Non-trainable params: 15,722,400\n",
            "__________________________________________________________________________________________________\n"
          ],
          "name": "stdout"
        }
      ]
    },
    {
      "cell_type": "code",
      "metadata": {
        "id": "knOh9av8vrEP",
        "colab_type": "code",
        "colab": {}
      },
      "source": [
        " optimizer = tf.keras.optimizers.Adam(learning_rate=0.01)\n",
        " model.compile(optimizer=optimizer, loss='sparse_categorical_crossentropy')"
      ],
      "execution_count": 0,
      "outputs": []
    },
    {
      "cell_type": "markdown",
      "metadata": {
        "id": "jdOcdlBPzbxy",
        "colab_type": "text"
      },
      "source": [
        "Model Training"
      ]
    },
    {
      "cell_type": "code",
      "metadata": {
        "id": "Ec__CBe5tf5U",
        "colab_type": "code",
        "colab": {
          "base_uri": "https://localhost:8080/"
        },
        "outputId": "43729083-b950-4925-e9d8-d9f4fe47ed65"
      },
      "source": [
        "%load_ext tensorboard"
      ],
      "execution_count": 149,
      "outputs": [
        {
          "output_type": "stream",
          "text": [
            "The tensorboard extension is already loaded. To reload it, use:\n",
            "  %reload_ext tensorboard\n"
          ],
          "name": "stdout"
        }
      ]
    },
    {
      "cell_type": "code",
      "metadata": {
        "id": "WWAlqsP67dkx",
        "colab_type": "code",
        "colab": {}
      },
      "source": [
        "!rm -rf ./log/"
      ],
      "execution_count": 0,
      "outputs": []
    },
    {
      "cell_type": "code",
      "metadata": {
        "id": "yEs3PPIafGwW",
        "colab_type": "code",
        "colab": {}
      },
      "source": [
        "from tensorflow.keras.callbacks import EarlyStopping, TensorBoard, ReduceLROnPlateau\n",
        "tbCallBack = TensorBoard(log_dir='./log', histogram_freq=1,\n",
        "                         write_graph=True)\n",
        "\n",
        "earlyStop = EarlyStopping(patience=2)\n",
        "\n",
        "reduceLr = ReduceLROnPlateau(factor=0.2, patience=1)"
      ],
      "execution_count": 0,
      "outputs": []
    },
    {
      "cell_type": "code",
      "metadata": {
        "id": "Twl7O0lKfM-p",
        "colab_type": "code",
        "colab": {}
      },
      "source": [
        "callbacks = [ \n",
        "             tbCallBack,\n",
        "             earlyStop,\n",
        "             reduceLr\n",
        "]"
      ],
      "execution_count": 0,
      "outputs": []
    },
    {
      "cell_type": "code",
      "metadata": {
        "id": "ebwlg8_wH-aT",
        "colab_type": "code",
        "colab": {
          "base_uri": "https://localhost:8080/",
          "height": 1000
        },
        "outputId": "f177982f-798f-453d-febd-9afa5972f393"
      },
      "source": [
        "history=model.fit([X_train,y_train[:,:-1]], \n",
        "                  y_train.reshape(y_train.shape[0],y_train.shape[1], 1)[:,1:] ,\n",
        "                  epochs=50,\n",
        "                  callbacks=callbacks,\n",
        "                  batch_size=256, \n",
        "                  validation_data=([X_val,y_val[:,:-1]], y_val.reshape(y_val.shape[0],y_val.shape[1], 1)[:,1:]))"
      ],
      "execution_count": 161,
      "outputs": [
        {
          "output_type": "stream",
          "text": [
            "2014/2014 [==============================] - 251s 124ms/step - loss: 2.0097 - val_loss: 1.7379 - lr: 0.0100\n",
            "Epoch 2/50\n",
            "2014/2014 [==============================] - 250s 124ms/step - loss: 1.6740 - val_loss: 1.6415 - lr: 0.0100\n",
            "Epoch 3/50\n",
            "2014/2014 [==============================] - 252s 125ms/step - loss: 1.5664 - val_loss: 1.6071 - lr: 0.0100\n",
            "Epoch 4/50\n",
            "2014/2014 [==============================] - 252s 125ms/step - loss: 1.5077 - val_loss: 1.5936 - lr: 0.0100\n",
            "Epoch 5/50\n",
            "2014/2014 [==============================] - 252s 125ms/step - loss: 1.5788 - val_loss: 1.6494 - lr: 0.0100\n",
            "Epoch 6/50\n",
            "2014/2014 [==============================] - 252s 125ms/step - loss: 1.4307 - val_loss: 1.5847 - lr: 0.0020\n",
            "Epoch 7/50\n",
            "2014/2014 [==============================] - 252s 125ms/step - loss: 1.3983 - val_loss: 1.5730 - lr: 0.0020\n",
            "Epoch 8/50\n",
            "2014/2014 [==============================] - 251s 125ms/step - loss: 1.3791 - val_loss: 1.5646 - lr: 0.0020\n",
            "Epoch 9/50\n",
            "2014/2014 [==============================] - 251s 125ms/step - loss: 1.3654 - val_loss: 1.5574 - lr: 0.0020\n",
            "Epoch 10/50\n",
            "2014/2014 [==============================] - 251s 125ms/step - loss: 1.3550 - val_loss: 1.5550 - lr: 0.0020\n",
            "Epoch 11/50\n",
            "2014/2014 [==============================] - 252s 125ms/step - loss: 1.3447 - val_loss: 1.5479 - lr: 0.0020\n",
            "Epoch 12/50\n",
            "2014/2014 [==============================] - 252s 125ms/step - loss: 1.3340 - val_loss: 1.5444 - lr: 0.0020\n",
            "Epoch 13/50\n",
            "2014/2014 [==============================] - 251s 125ms/step - loss: 1.3241 - val_loss: 1.5396 - lr: 0.0020\n",
            "Epoch 14/50\n",
            "2014/2014 [==============================] - 251s 124ms/step - loss: 1.3148 - val_loss: 1.5364 - lr: 0.0020\n",
            "Epoch 15/50\n",
            "2014/2014 [==============================] - 251s 125ms/step - loss: 1.3090 - val_loss: 1.5356 - lr: 0.0020\n",
            "Epoch 16/50\n",
            "2014/2014 [==============================] - 251s 125ms/step - loss: 1.3025 - val_loss: 1.5327 - lr: 0.0020\n",
            "Epoch 17/50\n",
            "2014/2014 [==============================] - 252s 125ms/step - loss: 1.2953 - val_loss: 1.5283 - lr: 0.0020\n",
            "Epoch 18/50\n",
            "2014/2014 [==============================] - 253s 126ms/step - loss: 1.2895 - val_loss: 1.5264 - lr: 0.0020\n",
            "Epoch 19/50\n",
            "2014/2014 [==============================] - 252s 125ms/step - loss: 1.2834 - val_loss: 1.5238 - lr: 0.0020\n",
            "Epoch 20/50\n",
            "2014/2014 [==============================] - 251s 125ms/step - loss: 1.2789 - val_loss: 1.5265 - lr: 0.0020\n",
            "Epoch 21/50\n",
            "2014/2014 [==============================] - 251s 124ms/step - loss: 1.2555 - val_loss: 1.5187 - lr: 4.0000e-04\n",
            "Epoch 22/50\n",
            "2014/2014 [==============================] - 251s 124ms/step - loss: 1.2508 - val_loss: 1.5168 - lr: 4.0000e-04\n",
            "Epoch 23/50\n",
            "2014/2014 [==============================] - 251s 124ms/step - loss: 1.2486 - val_loss: 1.5149 - lr: 4.0000e-04\n",
            "Epoch 24/50\n",
            "2014/2014 [==============================] - 251s 125ms/step - loss: 1.2464 - val_loss: 1.5160 - lr: 4.0000e-04\n",
            "Epoch 25/50\n",
            "2014/2014 [==============================] - 251s 125ms/step - loss: 1.2403 - val_loss: 1.5141 - lr: 8.0000e-05\n",
            "Epoch 26/50\n",
            "2014/2014 [==============================] - 251s 125ms/step - loss: 1.2395 - val_loss: 1.5139 - lr: 8.0000e-05\n",
            "Epoch 27/50\n",
            "2014/2014 [==============================] - 251s 125ms/step - loss: 1.2388 - val_loss: 1.5139 - lr: 8.0000e-05\n",
            "Epoch 28/50\n",
            "2014/2014 [==============================] - 249s 124ms/step - loss: 1.2373 - val_loss: 1.5138 - lr: 1.6000e-05\n",
            "Epoch 29/50\n",
            "2014/2014 [==============================] - 249s 124ms/step - loss: 1.2373 - val_loss: 1.5138 - lr: 1.6000e-05\n",
            "Epoch 30/50\n",
            "2014/2014 [==============================] - 250s 124ms/step - loss: 1.2367 - val_loss: 1.5138 - lr: 3.2000e-06\n",
            "Epoch 31/50\n",
            "2014/2014 [==============================] - 249s 124ms/step - loss: 1.2369 - val_loss: 1.5138 - lr: 6.4000e-07\n"
          ],
          "name": "stdout"
        }
      ]
    },
    {
      "cell_type": "code",
      "metadata": {
        "id": "wv4jkFOh2Veh",
        "colab_type": "code",
        "colab": {}
      },
      "source": [
        "%tensorboard --logdir log"
      ],
      "execution_count": 0,
      "outputs": []
    },
    {
      "cell_type": "markdown",
      "metadata": {
        "id": "i_-YEtrQzfh9",
        "colab_type": "text"
      },
      "source": [
        "Inference"
      ]
    },
    {
      "cell_type": "code",
      "metadata": {
        "id": "6XwbirctO0so",
        "colab_type": "code",
        "colab": {}
      },
      "source": [
        "reverse_word_map = dict(map(reversed, y_tokenizer.word_index.items()))"
      ],
      "execution_count": 0,
      "outputs": []
    },
    {
      "cell_type": "code",
      "metadata": {
        "id": "RGdsWFOkO6kS",
        "colab_type": "code",
        "colab": {}
      },
      "source": [
        "def decode_sequence(input_seq):\n",
        "    e_out, e_h, e_c = encoder_model.predict(input_seq)\n",
        "\n",
        "    target_seq = np.zeros((1,1))\n",
        "    target_seq[0, 0] = y_words_to_index['_START_']\n",
        "\n",
        "    stop_condition = False\n",
        "    decoded_sentence = ''\n",
        "    while not stop_condition:\n",
        "        output_tokens, h, c = decoder_model.predict([target_seq] + [e_out, e_h, e_c])\n",
        "\n",
        "        # Sample a token\n",
        "        sampled_token_index = np.argmax(output_tokens[0, -1, :])\n",
        "        sampled_token = reverse_word_map[sampled_token_index]\n",
        "\n",
        "        if(sampled_token!='_END_'):\n",
        "            decoded_sentence += ' '+sampled_token\n",
        "\n",
        "        if (sampled_token ==  '_END_' or len(decoded_sentence.split()) >= (max_len_summary-1)):\n",
        "                stop_condition = True\n",
        "\n",
        "        target_seq = np.zeros((1,1))\n",
        "        target_seq[0, 0] = sampled_token_index\n",
        "        e_h, e_c = h, c\n",
        "\n",
        "    return decoded_sentence"
      ],
      "execution_count": 0,
      "outputs": []
    },
    {
      "cell_type": "code",
      "metadata": {
        "id": "I_vxfBARFdff",
        "colab_type": "code",
        "colab": {}
      },
      "source": [
        "decoder_model.load_weights(\"summarizer_decoder_weight.h5\")\n",
        "encoder_model.load_weights(\"summarizer_encoder_weight.h5\")"
      ],
      "execution_count": 0,
      "outputs": []
    },
    {
      "cell_type": "code",
      "metadata": {
        "id": "AGggjeaX7n7M",
        "colab_type": "code",
        "colab": {
          "base_uri": "https://localhost:8080/",
          "height": 34
        },
        "outputId": "29a1c9f0-3d28-4ff3-d656-115551469363"
      },
      "source": [
        "decode_sequence(X_val[900].reshape(1,max_len_text))"
      ],
      "execution_count": 253,
      "outputs": [
        {
          "output_type": "execute_result",
          "data": {
            "text/plain": [
              "' great product'"
            ]
          },
          "metadata": {
            "tags": []
          },
          "execution_count": 253
        }
      ]
    },
    {
      "cell_type": "code",
      "metadata": {
        "id": "hp9O5wKNGGIZ",
        "colab_type": "code",
        "colab": {}
      },
      "source": [
        "val_text = x_tokenizer.sequences_to_texts(X_val)"
      ],
      "execution_count": 0,
      "outputs": []
    },
    {
      "cell_type": "code",
      "metadata": {
        "id": "FqLCRe8zGLFu",
        "colab_type": "code",
        "colab": {
          "base_uri": "https://localhost:8080/",
          "height": 54
        },
        "outputId": "a937aa3c-2206-4533-9fbf-b3f31f0231a8"
      },
      "source": [
        "val_text[900]"
      ],
      "execution_count": 252,
      "outputs": [
        {
          "output_type": "execute_result",
          "data": {
            "text/plain": [
              "'back mn visiting relatives realized whole grain items house like whole wheat whole grain added sugar products better oats products ones added items run favorite site retailer big bulls eye place found picked daughter loved found wonderful flavor easy prepare good serving size really liked texture mushy runny never liked instant oatmeal life want regular solid oatmeal need prepare hurry need give try UNK UNK UNK UNK UNK UNK UNK UNK UNK UNK UNK UNK UNK UNK UNK UNK UNK UNK UNK UNK UNK UNK UNK UNK UNK UNK UNK UNK UNK UNK UNK UNK UNK UNK UNK UNK UNK UNK UNK UNK UNK UNK UNK UNK UNK UNK UNK UNK UNK UNK UNK UNK UNK UNK UNK UNK UNK UNK UNK UNK UNK UNK UNK UNK UNK UNK UNK UNK UNK UNK UNK UNK UNK UNK UNK UNK UNK UNK UNK UNK UNK UNK UNK UNK UNK UNK UNK UNK UNK UNK UNK UNK UNK UNK UNK UNK UNK UNK UNK UNK UNK UNK UNK UNK UNK UNK UNK UNK UNK UNK UNK UNK UNK UNK UNK UNK UNK UNK UNK UNK UNK UNK UNK UNK UNK UNK UNK UNK UNK UNK UNK UNK UNK UNK UNK UNK UNK UNK UNK UNK UNK UNK UNK UNK UNK UNK UNK UNK UNK UNK UNK UNK UNK UNK UNK UNK UNK UNK UNK UNK UNK UNK UNK UNK UNK UNK UNK UNK UNK UNK UNK UNK UNK UNK UNK UNK UNK UNK UNK UNK UNK UNK UNK UNK UNK UNK UNK'"
            ]
          },
          "metadata": {
            "tags": []
          },
          "execution_count": 252
        }
      ]
    },
    {
      "cell_type": "code",
      "metadata": {
        "id": "DW0MimDyPKqR",
        "colab_type": "code",
        "colab": {}
      },
      "source": [
        "val_sum = y_tokenizer.sequences_to_texts(y_val)"
      ],
      "execution_count": 0,
      "outputs": []
    },
    {
      "cell_type": "code",
      "metadata": {
        "id": "7x1OAQIwPSog",
        "colab_type": "code",
        "colab": {
          "base_uri": "https://localhost:8080/",
          "height": 34
        },
        "outputId": "e8d71d70-eaf0-4bb7-8fc9-b57fe15b7c17"
      },
      "source": [
        "val_sum[900]"
      ],
      "execution_count": 254,
      "outputs": [
        {
          "output_type": "execute_result",
          "data": {
            "text/plain": [
              "'_START_ outstanding great taste mushy flavorful _END_ UNK UNK UNK'"
            ]
          },
          "metadata": {
            "tags": []
          },
          "execution_count": 254
        }
      ]
    },
    {
      "cell_type": "markdown",
      "metadata": {
        "id": "hS3rBroQztMs",
        "colab_type": "text"
      },
      "source": [
        "Model saving"
      ]
    },
    {
      "cell_type": "code",
      "metadata": {
        "id": "FaXnDnkryWnd",
        "colab_type": "code",
        "colab": {}
      },
      "source": [
        "decoder_model.save_weights(\"summarizer_decoder_weight.h5\")\n",
        "encoder_model.save_weights(\"summarizer_encoder_weight.h5\")"
      ],
      "execution_count": 0,
      "outputs": []
    },
    {
      "cell_type": "code",
      "metadata": {
        "id": "FZdw3dJmx4f-",
        "colab_type": "code",
        "colab": {}
      },
      "source": [
        "import pickle\n",
        "\n",
        "with open('x_tokenizer.pickle', 'wb') as handle1:\n",
        "    pickle.dump(x_tokenizer, handle1, protocol=pickle.HIGHEST_PROTOCOL)\n",
        "\n",
        "with open('y_tokenizer.pickle', 'wb') as handle2:\n",
        "    pickle.dump(y_tokenizer, handle2, protocol=pickle.HIGHEST_PROTOCOL)"
      ],
      "execution_count": 0,
      "outputs": []
    },
    {
      "cell_type": "code",
      "metadata": {
        "id": "0C0ln6gcmJdb",
        "colab_type": "code",
        "colab": {}
      },
      "source": [
        "contractions = {\n",
        "    \"ain't\": \"am not\",\n",
        "    \"aren't\": \"are not\",\n",
        "    \"can't\": \"cannot\",\n",
        "    \"can't've\": \"cannot have\",\n",
        "    \"'cause\": \"because\",\n",
        "    \"could've\": \"could have\",\n",
        "    \"couldn't\": \"could not\",\n",
        "    \"couldn't've\": \"could not have\",\n",
        "    \"didn't\": \"did not\",\n",
        "    \"doesn't\": \"does not\",\n",
        "    \"don't\": \"do not\",\n",
        "    \"hadn't\": \"had not\",\n",
        "    \"hadn't've\": \"had not have\",\n",
        "    \"hasn't\": \"has not\",\n",
        "    \"haven't\": \"have not\",\n",
        "    \"he'd\": \"he would\",\n",
        "    \"he'd've\": \"he would have\",\n",
        "    \"he'll\": \"he will\",\n",
        "    \"he's\": \"he is\",\n",
        "    \"how'd\": \"how did\",\n",
        "    \"how'll\": \"how will\",\n",
        "    \"how's\": \"how is\",\n",
        "    \"i'd\": \"i would\",\n",
        "    \"i'll\": \"i will\",\n",
        "    \"i'm\": \"i am\",\n",
        "    \"i've\": \"i have\",\n",
        "    \"isn't\": \"is not\",\n",
        "    \"it'd\": \"it would\",\n",
        "    \"it'll\": \"it will\",\n",
        "    \"it's\": \"it is\",\n",
        "    \"let's\": \"let us\",\n",
        "    \"ma'am\": \"madam\",\n",
        "    \"mayn't\": \"may not\",\n",
        "    \"might've\": \"might have\",\n",
        "    \"mightn't\": \"might not\",\n",
        "    \"must've\": \"must have\",\n",
        "    \"mustn't\": \"must not\",\n",
        "    \"needn't\": \"need not\",\n",
        "    \"oughtn't\": \"ought not\",\n",
        "    \"shan't\": \"shall not\",\n",
        "    \"sha'n't\": \"shall not\",\n",
        "    \"she'd\": \"she would\",\n",
        "    \"she'll\": \"she will\",\n",
        "    \"she's\": \"she is\",\n",
        "    \"should've\": \"should have\",\n",
        "    \"shouldn't\": \"should not\",\n",
        "    \"that'd\": \"that would\",\n",
        "    \"that's\": \"that is\",\n",
        "    \"there'd\": \"there had\",\n",
        "    \"there's\": \"there is\",\n",
        "    \"they'd\": \"they would\",\n",
        "    \"they'll\": \"they will\",\n",
        "    \"they're\": \"they are\",\n",
        "    \"they've\": \"they have\",\n",
        "    \"wasn't\": \"was not\",\n",
        "    \"we'd\": \"we would\",\n",
        "    \"we'll\": \"we will\",\n",
        "    \"we're\": \"we are\",\n",
        "    \"we've\": \"we have\",\n",
        "    \"weren't\": \"were not\",\n",
        "    \"what'll\": \"what will\",\n",
        "    \"what're\": \"what are\",\n",
        "    \"what's\": \"what is\",\n",
        "    \"what've\": \"what have\",\n",
        "    \"where'd\": \"where did\",\n",
        "    \"where's\": \"where is\",\n",
        "    \"who'll\": \"who will\",\n",
        "    \"who's\": \"who is\",\n",
        "    \"won't\": \"will not\",\n",
        "    \"wouldn't\": \"would not\",\n",
        "    \"you'd\": \"you would\",\n",
        "    \"you'll\": \"you will\",\n",
        "    \"you're\": \"you are\"\n",
        "}"
      ],
      "execution_count": 0,
      "outputs": []
    },
    {
      "cell_type": "code",
      "metadata": {
        "id": "IqEpLdXAmML3",
        "colab_type": "code",
        "colab": {}
      },
      "source": [
        ""
      ],
      "execution_count": 0,
      "outputs": []
    }
  ]
}